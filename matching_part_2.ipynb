{
  "cells": [
    {
      "cell_type": "code",
      "execution_count": null,
      "metadata": {
        "colab": {
          "base_uri": "https://localhost:8080/"
        },
        "id": "7JqsoxuEB2_M",
        "outputId": "0cf74998-d4f1-409c-a2e4-4edcd158c629"
      },
      "outputs": [
        {
          "name": "stdout",
          "output_type": "stream",
          "text": [
            "Collecting catboost\n",
            "  Downloading catboost-1.2.1-cp310-cp310-manylinux2014_x86_64.whl (98.7 MB)\n",
            "\u001b[2K     \u001b[90m━━━━━━━━━━━━━━━━━━━━━━━━━━━━━━━━━━━━━━━━\u001b[0m \u001b[32m98.7/98.7 MB\u001b[0m \u001b[31m8.6 MB/s\u001b[0m eta \u001b[36m0:00:00\u001b[0m\n",
            "\u001b[?25hRequirement already satisfied: graphviz in /usr/local/lib/python3.10/dist-packages (from catboost) (0.20.1)\n",
            "Requirement already satisfied: matplotlib in /usr/local/lib/python3.10/dist-packages (from catboost) (3.7.1)\n",
            "Requirement already satisfied: numpy>=1.16.0 in /usr/local/lib/python3.10/dist-packages (from catboost) (1.23.5)\n",
            "Requirement already satisfied: pandas>=0.24 in /usr/local/lib/python3.10/dist-packages (from catboost) (1.5.3)\n",
            "Requirement already satisfied: scipy in /usr/local/lib/python3.10/dist-packages (from catboost) (1.10.1)\n",
            "Requirement already satisfied: plotly in /usr/local/lib/python3.10/dist-packages (from catboost) (5.15.0)\n",
            "Requirement already satisfied: six in /usr/local/lib/python3.10/dist-packages (from catboost) (1.16.0)\n",
            "Requirement already satisfied: python-dateutil>=2.8.1 in /usr/local/lib/python3.10/dist-packages (from pandas>=0.24->catboost) (2.8.2)\n",
            "Requirement already satisfied: pytz>=2020.1 in /usr/local/lib/python3.10/dist-packages (from pandas>=0.24->catboost) (2023.3)\n",
            "Requirement already satisfied: contourpy>=1.0.1 in /usr/local/lib/python3.10/dist-packages (from matplotlib->catboost) (1.1.0)\n",
            "Requirement already satisfied: cycler>=0.10 in /usr/local/lib/python3.10/dist-packages (from matplotlib->catboost) (0.11.0)\n",
            "Requirement already satisfied: fonttools>=4.22.0 in /usr/local/lib/python3.10/dist-packages (from matplotlib->catboost) (4.42.1)\n",
            "Requirement already satisfied: kiwisolver>=1.0.1 in /usr/local/lib/python3.10/dist-packages (from matplotlib->catboost) (1.4.4)\n",
            "Requirement already satisfied: packaging>=20.0 in /usr/local/lib/python3.10/dist-packages (from matplotlib->catboost) (23.1)\n",
            "Requirement already satisfied: pillow>=6.2.0 in /usr/local/lib/python3.10/dist-packages (from matplotlib->catboost) (9.4.0)\n",
            "Requirement already satisfied: pyparsing>=2.3.1 in /usr/local/lib/python3.10/dist-packages (from matplotlib->catboost) (3.1.1)\n",
            "Requirement already satisfied: tenacity>=6.2.0 in /usr/local/lib/python3.10/dist-packages (from plotly->catboost) (8.2.3)\n",
            "Installing collected packages: catboost\n",
            "Successfully installed catboost-1.2.1\n"
          ]
        }
      ],
      "source": [
        "!pip install catboost"
      ]
    },
    {
      "cell_type": "code",
      "source": [
        "import catboost\n",
        "from catboost.core import CatBoostRanker, CatBoostClassifier"
      ],
      "metadata": {
        "id": "QH3cKDMX26s9"
      },
      "execution_count": null,
      "outputs": []
    },
    {
      "cell_type": "code",
      "execution_count": 2,
      "metadata": {
        "id": "JKO9V_LNAPUR"
      },
      "outputs": [],
      "source": [
        "import pandas as pd\n",
        "import numpy as np\n",
        "import pickle\n",
        "from sklearn.linear_model import LogisticRegression\n",
        "from sklearn.model_selection import cross_val_score\n",
        "import joblib"
      ]
    },
    {
      "cell_type": "code",
      "execution_count": null,
      "metadata": {
        "id": "_R3fbqtzFgK0"
      },
      "outputs": [],
      "source": [
        "from google.colab import output\n",
        "output.enable_custom_widget_manager()"
      ]
    },
    {
      "cell_type": "code",
      "execution_count": null,
      "metadata": {
        "id": "dIULTQ-gFgLI"
      },
      "outputs": [],
      "source": [
        "from google.colab import output\n",
        "output.disable_custom_widget_manager()"
      ]
    },
    {
      "cell_type": "code",
      "execution_count": null,
      "metadata": {
        "colab": {
          "base_uri": "https://localhost:8080/",
          "height": 35
        },
        "id": "uzXcdPd30q-6",
        "outputId": "fe71090e-9101-456b-c35a-4734e9b3a906"
      },
      "outputs": [
        {
          "data": {
            "text/html": [
              "<details>\n",
              "<summary>Click to view session information</summary>\n",
              "<pre>\n",
              "-----\n",
              "catboost            1.2.1\n",
              "joblib              1.3.2\n",
              "numpy               1.23.5\n",
              "pandas              1.5.3\n",
              "session_info        1.0.0\n",
              "sklearn             1.2.2\n",
              "-----\n",
              "</pre>\n",
              "<details>\n",
              "<summary>Click to view modules imported as dependencies</summary>\n",
              "<pre>\n",
              "PIL                 9.4.0\n",
              "backcall            0.2.0\n",
              "certifi             2023.07.22\n",
              "cffi                1.15.1\n",
              "cloudpickle         2.2.1\n",
              "cycler              0.10.0\n",
              "cython_runtime      NA\n",
              "dateutil            2.8.2\n",
              "debugpy             1.6.6\n",
              "decorator           4.4.2\n",
              "defusedxml          0.7.1\n",
              "google              NA\n",
              "httplib2            0.22.0\n",
              "ipykernel           5.5.6\n",
              "ipython_genutils    0.2.0\n",
              "ipywidgets          7.7.1\n",
              "kiwisolver          1.4.4\n",
              "matplotlib          3.7.1\n",
              "matplotlib_inline   0.1.6\n",
              "mpl_toolkits        NA\n",
              "numexpr             2.8.5\n",
              "packaging           23.1\n",
              "pexpect             4.8.0\n",
              "pickleshare         0.7.5\n",
              "pkg_resources       NA\n",
              "platformdirs        3.10.0\n",
              "portpicker          NA\n",
              "prompt_toolkit      3.0.39\n",
              "psutil              5.9.5\n",
              "ptyprocess          0.7.0\n",
              "pyarrow             9.0.0\n",
              "pydev_ipython       NA\n",
              "pydevconsole        NA\n",
              "pydevd              2.9.5\n",
              "pydevd_file_utils   NA\n",
              "pydevd_plugins      NA\n",
              "pydevd_tracing      NA\n",
              "pygments            2.16.1\n",
              "pyparsing           3.1.1\n",
              "pytz                2023.3\n",
              "scipy               1.10.1\n",
              "setuptools          67.7.2\n",
              "sitecustomize       NA\n",
              "six                 1.16.0\n",
              "socks               1.7.1\n",
              "sphinxcontrib       NA\n",
              "storemagic          NA\n",
              "threadpoolctl       3.2.0\n",
              "tornado             6.3.2\n",
              "traitlets           5.7.1\n",
              "typing_extensions   NA\n",
              "wcwidth             0.2.6\n",
              "xgboost             1.7.6\n",
              "zmq                 23.2.1\n",
              "zoneinfo            NA\n",
              "</pre>\n",
              "</details> <!-- seems like this ends pre, so might as well be explicit -->\n",
              "<pre>\n",
              "-----\n",
              "IPython             7.34.0\n",
              "jupyter_client      6.1.12\n",
              "jupyter_core        5.3.1\n",
              "notebook            6.5.5\n",
              "-----\n",
              "Python 3.10.12 (main, Jun 11 2023, 05:26:28) [GCC 11.4.0]\n",
              "Linux-5.15.109+-x86_64-with-glibc2.35\n",
              "-----\n",
              "Session information updated at 2023-08-29 16:13\n",
              "</pre>\n",
              "</details>"
            ],
            "text/plain": [
              "<IPython.core.display.HTML object>"
            ]
          },
          "execution_count": 3,
          "metadata": {},
          "output_type": "execute_result"
        }
      ],
      "source": [
        "session_info.show()"
      ]
    },
    {
      "cell_type": "code",
      "execution_count": null,
      "metadata": {
        "id": "gX5_EdvtrXjT"
      },
      "outputs": [],
      "source": [
        "from google.colab import output\n",
        "output.enable_custom_widget_manager()"
      ]
    },
    {
      "cell_type": "markdown",
      "metadata": {
        "id": "2MML-8hiCGYz"
      },
      "source": [
        "### Загрузка матрицы признаков, индексов и данных, полученных на предыдущем этапе"
      ]
    },
    {
      "cell_type": "code",
      "execution_count": null,
      "metadata": {
        "id": "ynIlpPDdBgG2"
      },
      "outputs": [],
      "source": [
        "with open('drive/MyDrive/Colab Notebooks/data/preprocessed_data.npy', 'rb') as f:\n",
        "  preprocessed_data = np.load(f)"
      ]
    },
    {
      "cell_type": "code",
      "execution_count": null,
      "metadata": {
        "id": "ScRZ_6sMKaD8"
      },
      "outputs": [],
      "source": [
        "data_train = pd.read_csv('drive/MyDrive/Colab Notebooks/data/train.csv', index_col=0)\n",
        "target_train = data_train['Target']\n",
        "\n",
        "data_answers = pd.read_csv('drive/MyDrive/Colab Notebooks/data/validation_answer.csv', index_col=0)"
      ]
    },
    {
      "cell_type": "code",
      "execution_count": null,
      "metadata": {
        "id": "DwD9NSLlpgbZ"
      },
      "outputs": [],
      "source": [
        "with open('drive/MyDrive/Colab Notebooks/data/preprocessed_data_v.npy', 'rb') as f:\n",
        "  preprocessed_data_v = np.load(f)"
      ]
    },
    {
      "cell_type": "code",
      "execution_count": null,
      "metadata": {
        "id": "by2W9mlbKjAd"
      },
      "outputs": [],
      "source": [
        "with open('drive/MyDrive/Colab Notebooks/data/common_index.pkl', 'rb') as f:\n",
        "    common_index = pickle.load(f)"
      ]
    },
    {
      "cell_type": "code",
      "execution_count": null,
      "metadata": {
        "id": "yNnc1Uc8p8KI"
      },
      "outputs": [],
      "source": [
        "X = preprocessed_data[:, 0:140]\n",
        "y = preprocessed_data[:, 140]\n",
        "X_valid = preprocessed_data_v[:, 0:140]"
      ]
    },
    {
      "cell_type": "markdown",
      "metadata": {
        "id": "xWKjIM_YS1vW"
      },
      "source": [
        "### Выбор модели для точного поиска\n",
        "\n",
        "*В этот раздел включены не все эксперименты, которые были проведены*"
      ]
    },
    {
      "cell_type": "markdown",
      "metadata": {
        "id": "O6wXZOdnCC4F"
      },
      "source": [
        "### Логистическая регрессия. Для полной матицы и для сокращенной: дистанция и метка \"0-1\""
      ]
    },
    {
      "cell_type": "code",
      "execution_count": null,
      "metadata": {
        "colab": {
          "base_uri": "https://localhost:8080/"
        },
        "id": "XlsiMU0-BgfU",
        "outputId": "49ee9f94-faae-43b2-8f5f-c10478688c2b"
      },
      "outputs": [
        {
          "name": "stdout",
          "output_type": "stream",
          "text": [
            "[CV] END .................................................... total time=   7.2s\n",
            "[CV] END .................................................... total time=   5.5s\n",
            "[CV] END .................................................... total time=   7.3s\n",
            "[CV] END .................................................... total time=   7.6s\n",
            "[CV] END .................................................... total time=   2.9s\n"
          ]
        },
        {
          "data": {
            "text/plain": [
              "array([0.99199 , 0.99199 , 0.99199 , 0.991995, 0.991995])"
            ]
          },
          "execution_count": 10,
          "metadata": {},
          "output_type": "execute_result"
        }
      ],
      "source": [
        "model_LR = LogisticRegression(class_weight='balanced', random_state=2908, C=.25, solver='lbfgs')\n",
        "cross_val_score(model_LR, X, y, cv=5, scoring='accuracy', verbose=2)"
      ]
    },
    {
      "cell_type": "code",
      "execution_count": null,
      "metadata": {
        "id": "SuHVlU7Lb_ZU"
      },
      "outputs": [],
      "source": [
        "X_short = preprocessed_data[:, 138].reshape(-1,1)"
      ]
    },
    {
      "cell_type": "code",
      "execution_count": null,
      "metadata": {
        "id": "WYWou57Xc1eT"
      },
      "outputs": [],
      "source": [
        "y_t = y.astype('int')"
      ]
    },
    {
      "cell_type": "code",
      "execution_count": null,
      "metadata": {
        "id": "NQRddYi2ajGo"
      },
      "outputs": [],
      "source": [
        "w1 = sum(y) / y.shape[0]\n",
        "w0 = (y.shape[0] - sum(y)) / y.shape[0]"
      ]
    },
    {
      "cell_type": "code",
      "execution_count": null,
      "metadata": {
        "colab": {
          "base_uri": "https://localhost:8080/"
        },
        "id": "eYX135VCcb-z",
        "outputId": "4585fe5f-09ef-4fcc-bff4-a3360da0262a"
      },
      "outputs": [
        {
          "name": "stdout",
          "output_type": "stream",
          "text": [
            "[CV] END .................................................... total time=   0.8s\n",
            "[CV] END .................................................... total time=   0.7s\n",
            "[CV] END .................................................... total time=   0.8s\n",
            "[CV] END .................................................... total time=   0.8s\n",
            "[CV] END .................................................... total time=   0.8s\n"
          ]
        },
        {
          "data": {
            "text/plain": [
              "array([0.816565, 0.83063 , 0.831215, 0.836295, 0.826905])"
            ]
          },
          "execution_count": 14,
          "metadata": {},
          "output_type": "execute_result"
        }
      ],
      "source": [
        "model_LR_S = LogisticRegression(class_weight='balanced', random_state=2908, C=.25, solver='lbfgs')\n",
        "cross_val_score(model_LR, X_short, y_t, cv=5, scoring='accuracy', verbose=2)"
      ]
    },
    {
      "cell_type": "code",
      "execution_count": null,
      "metadata": {
        "id": "cD9B_yMiV5qC"
      },
      "outputs": [],
      "source": [
        "model_LR = model_LR.fit(X,y)"
      ]
    },
    {
      "cell_type": "code",
      "execution_count": null,
      "metadata": {
        "id": "f1hYrbvxUHg0"
      },
      "outputs": [],
      "source": [
        "model_LR_S = model_LR_S.fit(X_short,y_t)"
      ]
    },
    {
      "cell_type": "code",
      "execution_count": null,
      "metadata": {
        "colab": {
          "base_uri": "https://localhost:8080/"
        },
        "id": "wqG7QJPptruJ",
        "outputId": "c58bf96b-700c-41a4-d8ae-97f39490815f"
      },
      "outputs": [
        {
          "data": {
            "text/plain": [
              "['drive/MyDrive/Colab Notebooks/data/model_LR.joblib']"
            ]
          },
          "execution_count": 17,
          "metadata": {},
          "output_type": "execute_result"
        }
      ],
      "source": [
        "joblib.dump(model_LR, 'drive/MyDrive/Colab Notebooks/data/model_LR.joblib')"
      ]
    },
    {
      "cell_type": "code",
      "execution_count": null,
      "metadata": {
        "colab": {
          "base_uri": "https://localhost:8080/"
        },
        "id": "gzhr-GX-ZaOM",
        "outputId": "b0d0c97f-b769-48fc-da19-85623a0b2890"
      },
      "outputs": [
        {
          "data": {
            "text/plain": [
              "['drive/MyDrive/Colab Notebooks/data/model_LR_S.joblib']"
            ]
          },
          "execution_count": 18,
          "metadata": {},
          "output_type": "execute_result"
        }
      ],
      "source": [
        "joblib.dump(model_LR_S, 'drive/MyDrive/Colab Notebooks/data/model_LR_S.joblib')"
      ]
    },
    {
      "cell_type": "markdown",
      "metadata": {
        "id": "w6x86VP3KSq-"
      },
      "source": [
        "### CatBoost Ranker [Источник](https://github.com/catboost/catboost/blob/master/catboost/tutorials/ranking/ranking_tutorial.ipynb)"
      ]
    },
    {
      "cell_type": "code",
      "execution_count": null,
      "metadata": {
        "id": "HL5WVkAYQ6ow"
      },
      "outputs": [],
      "source": [
        "group_id = []\n",
        "for _ in range(int(preprocessed_data.shape[0] / 100)):\n",
        "  group_id += (np.repeat(_, 100)).tolist()"
      ]
    },
    {
      "cell_type": "code",
      "execution_count": null,
      "metadata": {
        "id": "ihif1b0uLCYI"
      },
      "outputs": [],
      "source": [
        "batch1 = catboost.Pool(data=X,\n",
        "                  label=y_t,\n",
        "                       group_id=group_id)"
      ]
    },
    {
      "cell_type": "code",
      "execution_count": null,
      "metadata": {
        "colab": {
          "base_uri": "https://localhost:8080/",
          "height": 278,
          "referenced_widgets": [
            "9ad35405d64149b1b0593455152387b9"
          ]
        },
        "id": "OaYnBRzALn8-",
        "outputId": "2bab4a38-1a82-4dfa-b98f-0e2022997d4b"
      },
      "outputs": [
        {
          "data": {
            "application/vnd.jupyter.widget-view+json": {
              "model_id": "9ad35405d64149b1b0593455152387b9",
              "version_major": 2,
              "version_minor": 0
            },
            "text/plain": [
              "MetricVisualizer(layout=Layout(align_self='stretch', height='500px'))"
            ]
          },
          "metadata": {},
          "output_type": "display_data"
        },
        {
          "name": "stdout",
          "output_type": "stream",
          "text": [
            "Training on fold [0/3]\n",
            "\n",
            "bestTest = 0.07987195203\n",
            "bestIteration = 199\n",
            "\n",
            "Training on fold [1/3]\n",
            "\n",
            "bestTest = 0.07990736762\n",
            "bestIteration = 199\n",
            "\n",
            "Training on fold [2/3]\n",
            "\n",
            "bestTest = 0.07945535084\n",
            "bestIteration = 199\n",
            "\n"
          ]
        }
      ],
      "source": [
        "params = {\"iterations\": 200,\n",
        "          \"depth\": 2,\n",
        "          \"loss_function\":'RMSE',\n",
        "          \"verbose\": False}\n",
        "\n",
        "scores = catboost.cv(batch1,\n",
        "            params,\n",
        "            fold_count=3,\n",
        "            plot=\"True\")"
      ]
    },
    {
      "cell_type": "code",
      "execution_count": null,
      "metadata": {
        "colab": {
          "base_uri": "https://localhost:8080/"
        },
        "id": "2QioZTrcWjtj",
        "outputId": "7aababfb-f48e-4ffa-f9d7-a8ce4bb3f070"
      },
      "outputs": [
        {
          "name": "stderr",
          "output_type": "stream",
          "text": [
            "/usr/local/lib/python3.10/dist-packages/catboost/core.py:6220: RuntimeWarning: Regression loss ('RMSE') ignores an important ranking parameter 'group_id'\n",
            "  warnings.warn(\"Regression loss ('{}') ignores an important ranking parameter 'group_id'\".format(loss_function), RuntimeWarning)\n"
          ]
        },
        {
          "data": {
            "text/plain": [
              "<catboost.core.CatBoostRanker at 0x7fc037168fd0>"
            ]
          },
          "execution_count": 22,
          "metadata": {},
          "output_type": "execute_result"
        }
      ],
      "source": [
        "params = {\"iterations\": 200,\n",
        "          \"depth\": 2,\n",
        "          \"loss_function\":'RMSE',\n",
        "          \"verbose\": 0,\n",
        "          \"eval_metric\": \"AUC\"}\n",
        "model_CR = CatBoostRanker(**params, random_state=2908)\n",
        "model_CR.fit(batch1)"
      ]
    },
    {
      "cell_type": "code",
      "execution_count": null,
      "metadata": {
        "colab": {
          "base_uri": "https://localhost:8080/"
        },
        "id": "RyUPC86itvPE",
        "outputId": "fd14b7f2-e1e5-4ad5-ab0a-fb6db5f2065d"
      },
      "outputs": [
        {
          "data": {
            "text/plain": [
              "['drive/MyDrive/Colab Notebooks/data/model_CR.joblib']"
            ]
          },
          "execution_count": 23,
          "metadata": {},
          "output_type": "execute_result"
        }
      ],
      "source": [
        "joblib.dump(model_CR, 'drive/MyDrive/Colab Notebooks/data/model_CR.joblib')"
      ]
    },
    {
      "cell_type": "markdown",
      "metadata": {
        "id": "y_ZMV-45rfhq"
      },
      "source": []
    },
    {
      "cell_type": "markdown",
      "metadata": {
        "id": "FJJb_b-tG0Ka"
      },
      "source": [
        "### CatBoost Classifier"
      ]
    },
    {
      "cell_type": "code",
      "execution_count": null,
      "metadata": {
        "colab": {
          "base_uri": "https://localhost:8080/"
        },
        "id": "dpbN4PagUpHc",
        "outputId": "42ab1869-6e53-4dae-8554-2c4195245b22"
      },
      "outputs": [
        {
          "data": {
            "text/plain": [
              "<catboost.core.CatBoostClassifier at 0x7fc0bccedcf0>"
            ]
          },
          "execution_count": 24,
          "metadata": {},
          "output_type": "execute_result"
        }
      ],
      "source": [
        "params_cl = {\"iterations\": 200,\n",
        "          \"depth\": 5,\n",
        "          \"eval_metric\":'AUC',\n",
        "          \"class_weights\":(w0, w1), #еще раз обучить FAISS на GPU и брать оттуда баланс классов\n",
        "          \"verbose\": 0}\n",
        "model_CC = CatBoostClassifier(**params_cl, random_state=2908)\n",
        "model_CC.fit(X, y_t)"
      ]
    },
    {
      "cell_type": "code",
      "execution_count": null,
      "metadata": {
        "id": "l0yyqs0gX2nQ"
      },
      "outputs": [],
      "source": [
        "model_CC.best_score_"
      ]
    },
    {
      "cell_type": "code",
      "execution_count": null,
      "metadata": {
        "id": "CDtSoqxcYQJp"
      },
      "outputs": [],
      "source": [
        "joblib.dump(model_CC, 'drive/MyDrive/Colab Notebooks/data/model_CC.joblib')"
      ]
    },
    {
      "cell_type": "markdown",
      "metadata": {
        "id": "iFA12ZEdLWjb"
      },
      "source": [
        "### Предсказания вероятностей для валидационной выборки"
      ]
    },
    {
      "cell_type": "code",
      "execution_count": null,
      "metadata": {
        "id": "djKWQHU_tXEO"
      },
      "outputs": [],
      "source": [
        "prob_pred_LR = model_LR.predict_proba(X_valid)"
      ]
    },
    {
      "cell_type": "code",
      "execution_count": null,
      "metadata": {
        "id": "kwuN6cAAUPt8"
      },
      "outputs": [],
      "source": [
        "prob_pred_LR_S = model_LR_S.predict_proba(X_valid[:, 138].reshape(-1,1))"
      ]
    },
    {
      "cell_type": "code",
      "execution_count": null,
      "metadata": {
        "id": "qS1jvXCcuGwt"
      },
      "outputs": [],
      "source": [
        "prob_pred_LR = prob_pred_LR[:,1]"
      ]
    },
    {
      "cell_type": "code",
      "execution_count": null,
      "metadata": {
        "id": "2F2F_kA3UaF9"
      },
      "outputs": [],
      "source": [
        "prob_pred_LR_S = prob_pred_LR_S[:,1]"
      ]
    },
    {
      "cell_type": "markdown",
      "metadata": {
        "id": "ljFC3SyN2vgK"
      },
      "source": [
        "### Для Catboost Ranker - [костыльное решение для вероятностей](https://habr.com/ru/articles/599827/)"
      ]
    },
    {
      "cell_type": "code",
      "execution_count": null,
      "metadata": {
        "colab": {
          "background_save": true
        },
        "id": "U9Xw60QYuKcx"
      },
      "outputs": [],
      "source": [
        "raw_predictions = model_CR.predict(X_valid)"
      ]
    },
    {
      "cell_type": "code",
      "execution_count": null,
      "metadata": {
        "colab": {
          "background_save": true
        },
        "id": "BM7GF3Y21IyT"
      },
      "outputs": [],
      "source": [
        "sigmoid = lambda x: 1 / (1 + np.exp(-x))\n",
        "prob_pred_CR = sigmoid(raw_predictions)"
      ]
    },
    {
      "cell_type": "code",
      "execution_count": null,
      "metadata": {
        "colab": {
          "background_save": true
        },
        "id": "AwpPgieG1U_D",
        "outputId": "598fcf23-47ee-4694-9ee5-2ba659a077d6"
      },
      "outputs": [
        {
          "data": {
            "text/plain": [
              "array([0.51813424, 0.52482415, 0.5258324 , ..., 0.50028825, 0.50254564,\n",
              "       0.50015824])"
            ]
          },
          "execution_count": 33,
          "metadata": {},
          "output_type": "execute_result"
        }
      ],
      "source": [
        "prob_pred_CR"
      ]
    },
    {
      "cell_type": "code",
      "execution_count": null,
      "metadata": {
        "colab": {
          "background_save": true
        },
        "id": "aT1AYFjFYbKh"
      },
      "outputs": [],
      "source": [
        "prob_pred_CC = model_CC.predict_proba(X_valid)"
      ]
    },
    {
      "cell_type": "code",
      "execution_count": null,
      "metadata": {
        "colab": {
          "background_save": true
        },
        "id": "MA4be_gkY9Nn"
      },
      "outputs": [],
      "source": [
        "prob_pred_CC = prob_pred_CC[:,1]"
      ]
    },
    {
      "cell_type": "code",
      "execution_count": null,
      "metadata": {
        "colab": {
          "background_save": true
        },
        "id": "FqiyVJBF_5Wa"
      },
      "outputs": [],
      "source": [
        "#p.save('drive/MyDrive/Colab Notebooks/data/prob_LR.npy', prob_pred_LR)\n",
        "#np.save('drive/MyDrive/Colab Notebooks/data/prob_CR.npy', prob_pred_CR)"
      ]
    },
    {
      "cell_type": "markdown",
      "metadata": {
        "id": "0kwetcLnUjVI"
      },
      "source": [
        "### Сборка результатов"
      ]
    },
    {
      "cell_type": "code",
      "execution_count": null,
      "metadata": {
        "colab": {
          "background_save": true
        },
        "id": "xV-gqxChUnFt"
      },
      "outputs": [],
      "source": [
        "valid_batch_size = 5000\n",
        "ans = data_answers[:valid_batch_size]"
      ]
    },
    {
      "cell_type": "code",
      "execution_count": null,
      "metadata": {
        "colab": {
          "background_save": true
        },
        "id": "PWo9j99xU9I4"
      },
      "outputs": [],
      "source": [
        "candidates = (X_valid[:, 139]).astype('int')"
      ]
    },
    {
      "cell_type": "code",
      "execution_count": null,
      "metadata": {
        "colab": {
          "background_save": true
        },
        "id": "hqLRlX8n16cs"
      },
      "outputs": [],
      "source": [
        "true_answer = pd.DataFrame(np.repeat(ans.values, 100, axis=0))[0]"
      ]
    },
    {
      "cell_type": "code",
      "execution_count": null,
      "metadata": {
        "colab": {
          "background_save": true
        },
        "id": "jFQCYmgf_FTC"
      },
      "outputs": [],
      "source": [
        "NeiNum = 100 # из FAISS"
      ]
    },
    {
      "cell_type": "markdown",
      "metadata": {
        "id": "xy2GVJdGUb95"
      },
      "source": [
        "### Расчет accuracy @ 100 и accuracy @ 5"
      ]
    },
    {
      "cell_type": "code",
      "execution_count": null,
      "metadata": {
        "colab": {
          "background_save": true
        },
        "id": "WBvU57WTEpYu"
      },
      "outputs": [],
      "source": [
        "def acc_final(candidates, true_values, probs, number):\n",
        "  result_100 = 0\n",
        "  result_5 = 0\n",
        "  answer = pd.DataFrame({'id':candidates.tolist(), 'probability':probs.tolist(), 'true_answer':true_values})\n",
        "  for i in range(0, answer.shape[0], number):\n",
        "    ids_5 = answer[i:i+number].sort_values(by='probability', ascending=False)[:5]['id']\n",
        "    ids_100 = answer[i:i+number]['id']\n",
        "    real_ans = answer[i:i+number]['true_answer'].values[0]\n",
        "    if real_ans in [common_index[_] for _ in ids_100.values]:\n",
        "      result_100 += 1\n",
        "    if real_ans in [common_index[_] for _ in ids_5.values]:\n",
        "      result_5 += 1\n",
        "    size = answer.shape[0] / number\n",
        "\n",
        "  return result_100 / size, result_5 / size"
      ]
    },
    {
      "cell_type": "code",
      "execution_count": null,
      "metadata": {
        "colab": {
          "background_save": true
        },
        "id": "nzFFSEez9c2y",
        "outputId": "de6add1b-c675-45be-cbd9-789b30171dfa"
      },
      "outputs": [
        {
          "name": "stdout",
          "output_type": "stream",
          "text": [
            "RESULTS FOR VALID DATASET FOR LOGISTIC REGRESSION\n",
            "ACCURACY @ 100 --- 0.79, ACCURACY @ 5 --- 0.0876,\n"
          ]
        }
      ],
      "source": [
        "acc_100, acc_5 = acc_final(candidates, true_answer, prob_pred_LR, NeiNum)\n",
        "print('RESULTS FOR VALID DATASET FOR LOGISTIC REGRESSION')\n",
        "print(f'ACCURACY @ 100 --- {acc_100}, ACCURACY @ 5 --- {acc_5},')"
      ]
    },
    {
      "cell_type": "code",
      "execution_count": null,
      "metadata": {
        "colab": {
          "background_save": true
        },
        "id": "h0QvevQ4_PLA",
        "outputId": "fdba47dd-fc3d-4690-87c9-916d224adb6f"
      },
      "outputs": [
        {
          "name": "stdout",
          "output_type": "stream",
          "text": [
            "RESULTS FOR VALID DATASET FOR LOGISTIC REGRESSION WITH SINGLE FEATURE\n",
            "ACCURACY @ 100 --- 0.79, ACCURACY @ 5 --- 0.6656,\n"
          ]
        }
      ],
      "source": [
        "acc_100, acc_5 = acc_final(candidates, true_answer, prob_pred_LR_S, NeiNum)\n",
        "print('RESULTS FOR VALID DATASET FOR LOGISTIC REGRESSION WITH SINGLE FEATURE')\n",
        "print(f'ACCURACY @ 100 --- {acc_100}, ACCURACY @ 5 --- {acc_5},')"
      ]
    },
    {
      "cell_type": "code",
      "execution_count": null,
      "metadata": {
        "colab": {
          "background_save": true
        },
        "id": "JqMI7IDW_0kt",
        "outputId": "4324a7db-5197-45b0-bbd3-dee636d1a794"
      },
      "outputs": [
        {
          "name": "stdout",
          "output_type": "stream",
          "text": [
            "RESULTS FOR VALID DATASET FOR CATBOOST RANKER\n",
            "ACCURACY @ 100 --- 0.79, ACCURACY @ 5 --- 0.6554,\n"
          ]
        }
      ],
      "source": [
        "acc_100, acc_5 = acc_final(candidates, true_answer, prob_pred_CR, NeiNum)\n",
        "print('RESULTS FOR VALID DATASET FOR CATBOOST RANKER')\n",
        "print(f'ACCURACY @ 100 --- {acc_100}, ACCURACY @ 5 --- {acc_5},')"
      ]
    },
    {
      "cell_type": "code",
      "execution_count": null,
      "metadata": {
        "colab": {
          "background_save": true
        },
        "id": "NqP0bZQUAd4f",
        "outputId": "7ede61ec-3bae-4b76-ae3f-9f2cd8cb798c"
      },
      "outputs": [
        {
          "name": "stdout",
          "output_type": "stream",
          "text": [
            "RESULTS FOR VALID DATASET FOR CATBOOST CLASSIFIER\n",
            "ACCURACY @ 100 --- 0.79, ACCURACY @ 5 --- 0.664,\n"
          ]
        }
      ],
      "source": [
        "acc_100, acc_5 = acc_final(candidates, true_answer, prob_pred_CC, NeiNum)\n",
        "print('RESULTS FOR VALID DATASET FOR CATBOOST CLASSIFIER')\n",
        "print(f'ACCURACY @ 100 --- {acc_100}, ACCURACY @ 5 --- {acc_5},')"
      ]
    },
    {
      "cell_type": "markdown",
      "metadata": {
        "id": "tIdJLBverg00"
      },
      "source": [
        "**Вывод**\n",
        "\n",
        "Модель требует доработки.\n",
        "\n",
        "Также надо заново обучить на этапе грубого поиска на GPU и повторить точный поиск"
      ]
    },
    {
      "cell_type": "code",
      "source": [],
      "metadata": {
        "id": "y-DE-n_P4Jpz"
      },
      "execution_count": null,
      "outputs": []
    }
  ],
  "metadata": {
    "colab": {
      "provenance": []
    },
    "kernelspec": {
      "display_name": "Python 3",
      "name": "python3"
    },
    "language_info": {
      "name": "python"
    },
    "widgets": {
      "application/vnd.jupyter.widget-state+json": {
        "9ad35405d64149b1b0593455152387b9": {
          "model_module": "catboost-widget",
          "model_module_version": "^1.0.0",
          "model_name": "CatboostWidgetModel",
          "state": {
            "_dom_classes": [],
            "_model_module": "catboost-widget",
            "_model_module_version": "^1.0.0",
            "_model_name": "CatboostWidgetModel",
            "_view_count": null,
            "_view_module": "catboost-widget",
            "_view_module_version": "^1.0.0",
            "_view_name": "CatboostWidgetView",
            "data": {
              "catboost_info/fold-0": {
                "content": {
                  "data": {
                    "iterations": [
                      {
                        "iteration": 0,
                        "learn": [
                          0.08919792477
                        ],
                        "passed_time": 0.2331628432,
                        "remaining_time": 46.3994058,
                        "test": [
                          0.08917042168
                        ]
                      },
                      {
                        "iteration": 1,
                        "learn": [
                          0.0888994025
                        ],
                        "passed_time": 0.3869453508,
                        "remaining_time": 38.30758973,
                        "test": [
                          0.08887777518
                        ]
                      },
                      {
                        "iteration": 2,
                        "learn": [
                          0.0886175754
                        ],
                        "passed_time": 0.5409820463,
                        "remaining_time": 35.52448771,
                        "test": [
                          0.08860254494
                        ]
                      },
                      {
                        "iteration": 3,
                        "learn": [
                          0.08834908425
                        ],
                        "passed_time": 0.7004090527,
                        "remaining_time": 34.32004358,
                        "test": [
                          0.08834938879
                        ]
                      },
                      {
                        "iteration": 4,
                        "learn": [
                          0.08809714456
                        ],
                        "passed_time": 0.862883115,
                        "remaining_time": 33.65244149,
                        "test": [
                          0.08809406358
                        ]
                      },
                      {
                        "iteration": 5,
                        "learn": [
                          0.08785472092
                        ],
                        "passed_time": 1.017357526,
                        "remaining_time": 32.89455999,
                        "test": [
                          0.08785971594
                        ]
                      },
                      {
                        "iteration": 6,
                        "learn": [
                          0.08762578695
                        ],
                        "passed_time": 1.17014036,
                        "remaining_time": 32.26244134,
                        "test": [
                          0.08764616466
                        ]
                      },
                      {
                        "iteration": 7,
                        "learn": [
                          0.08740702101
                        ],
                        "passed_time": 1.319206322,
                        "remaining_time": 31.66095172,
                        "test": [
                          0.0874436254
                        ]
                      },
                      {
                        "iteration": 8,
                        "learn": [
                          0.08719886007
                        ],
                        "passed_time": 1.473510784,
                        "remaining_time": 31.2711733,
                        "test": [
                          0.08724982724
                        ]
                      },
                      {
                        "iteration": 9,
                        "learn": [
                          0.08700500388
                        ],
                        "passed_time": 1.622496656,
                        "remaining_time": 30.82743646,
                        "test": [
                          0.08706971565
                        ]
                      },
                      {
                        "iteration": 10,
                        "learn": [
                          0.08678466141
                        ],
                        "passed_time": 1.77845355,
                        "remaining_time": 30.55706553,
                        "test": [
                          0.08684717609
                        ]
                      },
                      {
                        "iteration": 11,
                        "learn": [
                          0.08656995142
                        ],
                        "passed_time": 1.932157607,
                        "remaining_time": 30.27046918,
                        "test": [
                          0.08663221507
                        ]
                      },
                      {
                        "iteration": 12,
                        "learn": [
                          0.08639656127
                        ],
                        "passed_time": 2.085312774,
                        "remaining_time": 29.99642221,
                        "test": [
                          0.08646869352
                        ]
                      },
                      {
                        "iteration": 13,
                        "learn": [
                          0.08623308962
                        ],
                        "passed_time": 2.242507802,
                        "remaining_time": 29.79331794,
                        "test": [
                          0.08631429699
                        ]
                      },
                      {
                        "iteration": 14,
                        "learn": [
                          0.08605827624
                        ],
                        "passed_time": 2.405516946,
                        "remaining_time": 29.66804234,
                        "test": [
                          0.08613982432
                        ]
                      },
                      {
                        "iteration": 15,
                        "learn": [
                          0.08591906172
                        ],
                        "passed_time": 2.561551191,
                        "remaining_time": 29.45783869,
                        "test": [
                          0.08600671881
                        ]
                      },
                      {
                        "iteration": 16,
                        "learn": [
                          0.08576706141
                        ],
                        "passed_time": 2.715756925,
                        "remaining_time": 29.23432455,
                        "test": [
                          0.08586914319
                        ]
                      },
                      {
                        "iteration": 17,
                        "learn": [
                          0.08563558727
                        ],
                        "passed_time": 2.87392454,
                        "remaining_time": 29.05857035,
                        "test": [
                          0.08574229694
                        ]
                      },
                      {
                        "iteration": 18,
                        "learn": [
                          0.08545781211
                        ],
                        "passed_time": 3.029542617,
                        "remaining_time": 28.86037967,
                        "test": [
                          0.08556638189
                        ]
                      },
                      {
                        "iteration": 19,
                        "learn": [
                          0.08529229866
                        ],
                        "passed_time": 3.180926697,
                        "remaining_time": 28.62834027,
                        "test": [
                          0.08540300873
                        ]
                      },
                      {
                        "iteration": 20,
                        "learn": [
                          0.08517606089
                        ],
                        "passed_time": 3.33926809,
                        "remaining_time": 28.46328515,
                        "test": [
                          0.08529193798
                        ]
                      },
                      {
                        "iteration": 21,
                        "learn": [
                          0.08501740208
                        ],
                        "passed_time": 3.488021142,
                        "remaining_time": 28.22126197,
                        "test": [
                          0.08513658285
                        ]
                      },
                      {
                        "iteration": 22,
                        "learn": [
                          0.08491563614
                        ],
                        "passed_time": 3.673286272,
                        "remaining_time": 28.26833348,
                        "test": [
                          0.08503696204
                        ]
                      },
                      {
                        "iteration": 23,
                        "learn": [
                          0.08479633287
                        ],
                        "passed_time": 3.926410949,
                        "remaining_time": 28.79368029,
                        "test": [
                          0.08492318026
                        ]
                      },
                      {
                        "iteration": 24,
                        "learn": [
                          0.08465202012
                        ],
                        "passed_time": 4.213250846,
                        "remaining_time": 29.49275593,
                        "test": [
                          0.08478289158
                        ]
                      },
                      {
                        "iteration": 25,
                        "learn": [
                          0.08456063705
                        ],
                        "passed_time": 4.502801912,
                        "remaining_time": 30.13413588,
                        "test": [
                          0.08469369551
                        ]
                      },
                      {
                        "iteration": 26,
                        "learn": [
                          0.08447312072
                        ],
                        "passed_time": 4.796190165,
                        "remaining_time": 30.73114439,
                        "test": [
                          0.08460799203
                        ]
                      },
                      {
                        "iteration": 27,
                        "learn": [
                          0.08439392415
                        ],
                        "passed_time": 5.103520669,
                        "remaining_time": 31.3501984,
                        "test": [
                          0.08453135926
                        ]
                      },
                      {
                        "iteration": 28,
                        "learn": [
                          0.08426329025
                        ],
                        "passed_time": 5.397378803,
                        "remaining_time": 31.82592328,
                        "test": [
                          0.08440552741
                        ]
                      },
                      {
                        "iteration": 29,
                        "learn": [
                          0.08417422799
                        ],
                        "passed_time": 5.687248589,
                        "remaining_time": 32.227742,
                        "test": [
                          0.08432178772
                        ]
                      },
                      {
                        "iteration": 30,
                        "learn": [
                          0.08405072135
                        ],
                        "passed_time": 5.971779557,
                        "remaining_time": 32.55583049,
                        "test": [
                          0.08421582038
                        ]
                      },
                      {
                        "iteration": 31,
                        "learn": [
                          0.08398520657
                        ],
                        "passed_time": 6.261489463,
                        "remaining_time": 32.87281968,
                        "test": [
                          0.08415174697
                        ]
                      },
                      {
                        "iteration": 32,
                        "learn": [
                          0.08391915162
                        ],
                        "passed_time": 6.439016497,
                        "remaining_time": 32.58532591,
                        "test": [
                          0.08408667398
                        ]
                      },
                      {
                        "iteration": 33,
                        "learn": [
                          0.08381666607
                        ],
                        "passed_time": 6.589498051,
                        "remaining_time": 32.17225519,
                        "test": [
                          0.08400360016
                        ]
                      },
                      {
                        "iteration": 34,
                        "learn": [
                          0.08374407194
                        ],
                        "passed_time": 6.745751838,
                        "remaining_time": 31.80140152,
                        "test": [
                          0.08393706515
                        ]
                      },
                      {
                        "iteration": 35,
                        "learn": [
                          0.08361743651
                        ],
                        "passed_time": 6.91449148,
                        "remaining_time": 31.49935008,
                        "test": [
                          0.08382931718
                        ]
                      },
                      {
                        "iteration": 36,
                        "learn": [
                          0.08349809645
                        ],
                        "passed_time": 7.078004822,
                        "remaining_time": 31.1814807,
                        "test": [
                          0.08372999594
                        ]
                      },
                      {
                        "iteration": 37,
                        "learn": [
                          0.08343980871
                        ],
                        "passed_time": 7.243831141,
                        "remaining_time": 30.88159592,
                        "test": [
                          0.08367351688
                        ]
                      },
                      {
                        "iteration": 38,
                        "learn": [
                          0.08333501095
                        ],
                        "passed_time": 7.409534197,
                        "remaining_time": 30.58807707,
                        "test": [
                          0.08357433698
                        ]
                      },
                      {
                        "iteration": 39,
                        "learn": [
                          0.08327856275
                        ],
                        "passed_time": 7.57644539,
                        "remaining_time": 30.30578156,
                        "test": [
                          0.08352025293
                        ]
                      },
                      {
                        "iteration": 40,
                        "learn": [
                          0.08318031322
                        ],
                        "passed_time": 7.729781174,
                        "remaining_time": 29.97646846,
                        "test": [
                          0.08343291076
                        ]
                      },
                      {
                        "iteration": 41,
                        "learn": [
                          0.08313049502
                        ],
                        "passed_time": 7.886783266,
                        "remaining_time": 29.66932752,
                        "test": [
                          0.08338511275
                        ]
                      },
                      {
                        "iteration": 42,
                        "learn": [
                          0.08306450306
                        ],
                        "passed_time": 8.053507433,
                        "remaining_time": 29.40466667,
                        "test": [
                          0.08332630448
                        ]
                      },
                      {
                        "iteration": 43,
                        "learn": [
                          0.08295709517
                        ],
                        "passed_time": 8.202658704,
                        "remaining_time": 29.08215359,
                        "test": [
                          0.08322536441
                        ]
                      },
                      {
                        "iteration": 44,
                        "learn": [
                          0.08290905394
                        ],
                        "passed_time": 8.364304961,
                        "remaining_time": 28.81038375,
                        "test": [
                          0.08317877122
                        ]
                      },
                      {
                        "iteration": 45,
                        "learn": [
                          0.08286171848
                        ],
                        "passed_time": 8.524183081,
                        "remaining_time": 28.53748249,
                        "test": [
                          0.0831320097
                        ]
                      },
                      {
                        "iteration": 46,
                        "learn": [
                          0.08276093417
                        ],
                        "passed_time": 8.673463456,
                        "remaining_time": 28.23489167,
                        "test": [
                          0.08303504961
                        ]
                      },
                      {
                        "iteration": 47,
                        "learn": [
                          0.0827191472
                        ],
                        "passed_time": 8.830758181,
                        "remaining_time": 27.96406757,
                        "test": [
                          0.08299494628
                        ]
                      },
                      {
                        "iteration": 48,
                        "learn": [
                          0.08262341112
                        ],
                        "passed_time": 8.990617523,
                        "remaining_time": 27.70578053,
                        "test": [
                          0.08291992381
                        ]
                      },
                      {
                        "iteration": 49,
                        "learn": [
                          0.08258510789
                        ],
                        "passed_time": 9.151919763,
                        "remaining_time": 27.45575929,
                        "test": [
                          0.08288269353
                        ]
                      },
                      {
                        "iteration": 50,
                        "learn": [
                          0.08249469095
                        ],
                        "passed_time": 9.303853054,
                        "remaining_time": 27.1818452,
                        "test": [
                          0.08281352517
                        ]
                      },
                      {
                        "iteration": 51,
                        "learn": [
                          0.0824132033
                        ],
                        "passed_time": 9.453228587,
                        "remaining_time": 26.9053429,
                        "test": [
                          0.08273856613
                        ]
                      },
                      {
                        "iteration": 52,
                        "learn": [
                          0.08237877504
                        ],
                        "passed_time": 9.61585722,
                        "remaining_time": 26.67039644,
                        "test": [
                          0.08270491049
                        ]
                      },
                      {
                        "iteration": 53,
                        "learn": [
                          0.08234562929
                        ],
                        "passed_time": 9.7768437,
                        "remaining_time": 26.43368852,
                        "test": [
                          0.08267171374
                        ]
                      },
                      {
                        "iteration": 54,
                        "learn": [
                          0.08226720105
                        ],
                        "passed_time": 9.922701037,
                        "remaining_time": 26.15984819,
                        "test": [
                          0.08260134346
                        ]
                      },
                      {
                        "iteration": 55,
                        "learn": [
                          0.08219162823
                        ],
                        "passed_time": 10.08604715,
                        "remaining_time": 25.93554981,
                        "test": [
                          0.08254048693
                        ]
                      },
                      {
                        "iteration": 56,
                        "learn": [
                          0.08214919325
                        ],
                        "passed_time": 10.24138959,
                        "remaining_time": 25.69331073,
                        "test": [
                          0.08250325409
                        ]
                      },
                      {
                        "iteration": 57,
                        "learn": [
                          0.08211856228
                        ],
                        "passed_time": 10.40810985,
                        "remaining_time": 25.48192411,
                        "test": [
                          0.08247350734
                        ]
                      },
                      {
                        "iteration": 58,
                        "learn": [
                          0.08203617889
                        ],
                        "passed_time": 10.55769352,
                        "remaining_time": 25.23109808,
                        "test": [
                          0.08239691874
                        ]
                      },
                      {
                        "iteration": 59,
                        "learn": [
                          0.08200844603
                        ],
                        "passed_time": 10.71976405,
                        "remaining_time": 25.01278278,
                        "test": [
                          0.08236967144
                        ]
                      },
                      {
                        "iteration": 60,
                        "learn": [
                          0.08198031536
                        ],
                        "passed_time": 10.87871524,
                        "remaining_time": 24.78920359,
                        "test": [
                          0.08234608373
                        ]
                      },
                      {
                        "iteration": 61,
                        "learn": [
                          0.08190785835
                        ],
                        "passed_time": 11.03931443,
                        "remaining_time": 24.57137729,
                        "test": [
                          0.0822737173
                        ]
                      },
                      {
                        "iteration": 62,
                        "learn": [
                          0.08183241833
                        ],
                        "passed_time": 11.19105486,
                        "remaining_time": 24.33610342,
                        "test": [
                          0.08220416948
                        ]
                      },
                      {
                        "iteration": 63,
                        "learn": [
                          0.08180617602
                        ],
                        "passed_time": 11.35169203,
                        "remaining_time": 24.12234557,
                        "test": [
                          0.08217825721
                        ]
                      },
                      {
                        "iteration": 64,
                        "learn": [
                          0.08174092552
                        ],
                        "passed_time": 11.49823679,
                        "remaining_time": 23.88095334,
                        "test": [
                          0.0821139088
                        ]
                      },
                      {
                        "iteration": 65,
                        "learn": [
                          0.08171428302
                        ],
                        "passed_time": 11.65637382,
                        "remaining_time": 23.66597109,
                        "test": [
                          0.08208862058
                        ]
                      },
                      {
                        "iteration": 66,
                        "learn": [
                          0.0816507727
                        ],
                        "passed_time": 11.80684648,
                        "remaining_time": 23.43747136,
                        "test": [
                          0.0820348034
                        ]
                      },
                      {
                        "iteration": 67,
                        "learn": [
                          0.08162787148
                        ],
                        "passed_time": 11.98317599,
                        "remaining_time": 23.26145928,
                        "test": [
                          0.08201241638
                        ]
                      },
                      {
                        "iteration": 68,
                        "learn": [
                          0.08160626769
                        ],
                        "passed_time": 12.16494397,
                        "remaining_time": 23.09576319,
                        "test": [
                          0.08199165834
                        ]
                      },
                      {
                        "iteration": 69,
                        "learn": [
                          0.08156278193
                        ],
                        "passed_time": 12.33103751,
                        "remaining_time": 22.90049823,
                        "test": [
                          0.08195479776
                        ]
                      },
                      {
                        "iteration": 70,
                        "learn": [
                          0.08149434155
                        ],
                        "passed_time": 12.48930371,
                        "remaining_time": 22.6918335,
                        "test": [
                          0.08189550549
                        ]
                      },
                      {
                        "iteration": 71,
                        "learn": [
                          0.08146547867
                        ],
                        "passed_time": 12.6534717,
                        "remaining_time": 22.4950608,
                        "test": [
                          0.08187001618
                        ]
                      },
                      {
                        "iteration": 72,
                        "learn": [
                          0.08140690547
                        ],
                        "passed_time": 12.80544351,
                        "remaining_time": 22.27796336,
                        "test": [
                          0.08181813948
                        ]
                      },
                      {
                        "iteration": 73,
                        "learn": [
                          0.08138697771
                        ],
                        "passed_time": 12.98536714,
                        "remaining_time": 22.11021972,
                        "test": [
                          0.08179920564
                        ]
                      },
                      {
                        "iteration": 74,
                        "learn": [
                          0.08133072098
                        ],
                        "passed_time": 13.14914269,
                        "remaining_time": 21.91523781,
                        "test": [
                          0.0817446789
                        ]
                      },
                      {
                        "iteration": 75,
                        "learn": [
                          0.08126994209
                        ],
                        "passed_time": 13.31014477,
                        "remaining_time": 21.716552,
                        "test": [
                          0.08168761078
                        ]
                      },
                      {
                        "iteration": 76,
                        "learn": [
                          0.08121749881
                        ],
                        "passed_time": 13.46382867,
                        "remaining_time": 21.5071549,
                        "test": [
                          0.08164616738
                        ]
                      },
                      {
                        "iteration": 77,
                        "learn": [
                          0.08119950972
                        ],
                        "passed_time": 13.6336017,
                        "remaining_time": 21.32435137,
                        "test": [
                          0.08162855775
                        ]
                      },
                      {
                        "iteration": 78,
                        "learn": [
                          0.08113856073
                        ],
                        "passed_time": 13.79068998,
                        "remaining_time": 21.12244921,
                        "test": [
                          0.08157786601
                        ]
                      },
                      {
                        "iteration": 79,
                        "learn": [
                          0.08111971405
                        ],
                        "passed_time": 13.98099037,
                        "remaining_time": 20.97148556,
                        "test": [
                          0.08156288249
                        ]
                      },
                      {
                        "iteration": 80,
                        "learn": [
                          0.08110512766
                        ],
                        "passed_time": 14.16886527,
                        "remaining_time": 20.81598726,
                        "test": [
                          0.0815500081
                        ]
                      },
                      {
                        "iteration": 81,
                        "learn": [
                          0.08104747007
                        ],
                        "passed_time": 14.33529851,
                        "remaining_time": 20.62884419,
                        "test": [
                          0.08149739766
                        ]
                      },
                      {
                        "iteration": 82,
                        "learn": [
                          0.08100407267
                        ],
                        "passed_time": 14.48665765,
                        "remaining_time": 20.42095115,
                        "test": [
                          0.08145808175
                        ]
                      },
                      {
                        "iteration": 83,
                        "learn": [
                          0.0809696404
                        ],
                        "passed_time": 14.65153756,
                        "remaining_time": 20.23307568,
                        "test": [
                          0.08143381039
                        ]
                      },
                      {
                        "iteration": 84,
                        "learn": [
                          0.08095556654
                        ],
                        "passed_time": 14.82696292,
                        "remaining_time": 20.06000866,
                        "test": [
                          0.08141999876
                        ]
                      },
                      {
                        "iteration": 85,
                        "learn": [
                          0.08092110819
                        ],
                        "passed_time": 14.98845946,
                        "remaining_time": 19.868423,
                        "test": [
                          0.08139257845
                        ]
                      },
                      {
                        "iteration": 86,
                        "learn": [
                          0.08088090259
                        ],
                        "passed_time": 15.13996244,
                        "remaining_time": 19.66454892,
                        "test": [
                          0.08135663669
                        ]
                      },
                      {
                        "iteration": 87,
                        "learn": [
                          0.08086676099
                        ],
                        "passed_time": 15.30930296,
                        "remaining_time": 19.4845674,
                        "test": [
                          0.08134255313
                        ]
                      },
                      {
                        "iteration": 88,
                        "learn": [
                          0.08085405652
                        ],
                        "passed_time": 15.49177509,
                        "remaining_time": 19.32120264,
                        "test": [
                          0.08132957535
                        ]
                      },
                      {
                        "iteration": 89,
                        "learn": [
                          0.08081582214
                        ],
                        "passed_time": 15.63637496,
                        "remaining_time": 19.11112495,
                        "test": [
                          0.08129619367
                        ]
                      },
                      {
                        "iteration": 90,
                        "learn": [
                          0.08076899822
                        ],
                        "passed_time": 15.78640351,
                        "remaining_time": 18.90898881,
                        "test": [
                          0.08125669745
                        ]
                      },
                      {
                        "iteration": 91,
                        "learn": [
                          0.08071991795
                        ],
                        "passed_time": 15.94694743,
                        "remaining_time": 18.72032959,
                        "test": [
                          0.08122044686
                        ]
                      },
                      {
                        "iteration": 92,
                        "learn": [
                          0.08070434376
                        ],
                        "passed_time": 16.13331211,
                        "remaining_time": 18.56198275,
                        "test": [
                          0.08120863992
                        ]
                      },
                      {
                        "iteration": 93,
                        "learn": [
                          0.08066983677
                        ],
                        "passed_time": 16.28410842,
                        "remaining_time": 18.36293077,
                        "test": [
                          0.08117787976
                        ]
                      },
                      {
                        "iteration": 94,
                        "learn": [
                          0.0806368478
                        ],
                        "passed_time": 16.51451653,
                        "remaining_time": 18.25288669,
                        "test": [
                          0.08114937053
                        ]
                      },
                      {
                        "iteration": 95,
                        "learn": [
                          0.08062495003
                        ],
                        "passed_time": 16.80866747,
                        "remaining_time": 18.20938976,
                        "test": [
                          0.08113772751
                        ]
                      },
                      {
                        "iteration": 96,
                        "learn": [
                          0.08061388477
                        ],
                        "passed_time": 17.11389125,
                        "remaining_time": 18.17248246,
                        "test": [
                          0.0811264968
                        ]
                      },
                      {
                        "iteration": 97,
                        "learn": [
                          0.0805940097
                        ],
                        "passed_time": 17.40924568,
                        "remaining_time": 18.11982713,
                        "test": [
                          0.08111332674
                        ]
                      },
                      {
                        "iteration": 98,
                        "learn": [
                          0.08056331675
                        ],
                        "passed_time": 17.65572086,
                        "remaining_time": 18.01240209,
                        "test": [
                          0.08108682726
                        ]
                      },
                      {
                        "iteration": 99,
                        "learn": [
                          0.08053345325
                        ],
                        "passed_time": 17.9228696,
                        "remaining_time": 17.9228696,
                        "test": [
                          0.0810566673
                        ]
                      },
                      {
                        "iteration": 100,
                        "learn": [
                          0.08050505566
                        ],
                        "passed_time": 18.2290753,
                        "remaining_time": 17.86810351,
                        "test": [
                          0.08103229226
                        ]
                      },
                      {
                        "iteration": 101,
                        "learn": [
                          0.08047620688
                        ],
                        "passed_time": 18.50982597,
                        "remaining_time": 17.78395045,
                        "test": [
                          0.08099780219
                        ]
                      },
                      {
                        "iteration": 102,
                        "learn": [
                          0.08046575775
                        ],
                        "passed_time": 18.83574931,
                        "remaining_time": 17.73852119,
                        "test": [
                          0.08098750541
                        ]
                      },
                      {
                        "iteration": 103,
                        "learn": [
                          0.08042534286
                        ],
                        "passed_time": 19.12607047,
                        "remaining_time": 17.65483428,
                        "test": [
                          0.08095329112
                        ]
                      },
                      {
                        "iteration": 104,
                        "learn": [
                          0.08041567638
                        ],
                        "passed_time": 19.30928794,
                        "remaining_time": 17.47030814,
                        "test": [
                          0.08094340325
                        ]
                      },
                      {
                        "iteration": 105,
                        "learn": [
                          0.08039880518
                        ],
                        "passed_time": 19.4668327,
                        "remaining_time": 17.26304032,
                        "test": [
                          0.08092599418
                        ]
                      },
                      {
                        "iteration": 106,
                        "learn": [
                          0.08038945073
                        ],
                        "passed_time": 19.64246528,
                        "remaining_time": 17.07242309,
                        "test": [
                          0.08091695938
                        ]
                      },
                      {
                        "iteration": 107,
                        "learn": [
                          0.08035037044
                        ],
                        "passed_time": 19.78872767,
                        "remaining_time": 16.85706431,
                        "test": [
                          0.0808843889
                        ]
                      },
                      {
                        "iteration": 108,
                        "learn": [
                          0.08034070435
                        ],
                        "passed_time": 19.95428306,
                        "remaining_time": 16.65908035,
                        "test": [
                          0.08087717092
                        ]
                      },
                      {
                        "iteration": 109,
                        "learn": [
                          0.08029636129
                        ],
                        "passed_time": 20.10999554,
                        "remaining_time": 16.45363272,
                        "test": [
                          0.08084125006
                        ]
                      },
                      {
                        "iteration": 110,
                        "learn": [
                          0.0802880115
                        ],
                        "passed_time": 20.29527636,
                        "remaining_time": 16.27278915,
                        "test": [
                          0.08083287561
                        ]
                      },
                      {
                        "iteration": 111,
                        "learn": [
                          0.08027532344
                        ],
                        "passed_time": 20.44402061,
                        "remaining_time": 16.06315905,
                        "test": [
                          0.08081791481
                        ]
                      },
                      {
                        "iteration": 112,
                        "learn": [
                          0.08026359993
                        ],
                        "passed_time": 20.5960703,
                        "remaining_time": 15.85715147,
                        "test": [
                          0.08080355003
                        ]
                      },
                      {
                        "iteration": 113,
                        "learn": [
                          0.08025228478
                        ],
                        "passed_time": 20.74784969,
                        "remaining_time": 15.65188661,
                        "test": [
                          0.08079251713
                        ]
                      },
                      {
                        "iteration": 114,
                        "learn": [
                          0.08024199354
                        ],
                        "passed_time": 20.92164994,
                        "remaining_time": 15.46382821,
                        "test": [
                          0.08078524512
                        ]
                      },
                      {
                        "iteration": 115,
                        "learn": [
                          0.08023400248
                        ],
                        "passed_time": 21.10254381,
                        "remaining_time": 15.28115241,
                        "test": [
                          0.0807773493
                        ]
                      },
                      {
                        "iteration": 116,
                        "learn": [
                          0.08021388117
                        ],
                        "passed_time": 21.26695171,
                        "remaining_time": 15.08681189,
                        "test": [
                          0.08075914995
                        ]
                      },
                      {
                        "iteration": 117,
                        "learn": [
                          0.08020379792
                        ],
                        "passed_time": 21.42234293,
                        "remaining_time": 14.88671288,
                        "test": [
                          0.08074592065
                        ]
                      },
                      {
                        "iteration": 118,
                        "learn": [
                          0.08019679289
                        ],
                        "passed_time": 21.5985415,
                        "remaining_time": 14.70152825,
                        "test": [
                          0.08074050635
                        ]
                      },
                      {
                        "iteration": 119,
                        "learn": [
                          0.08017149864
                        ],
                        "passed_time": 21.74383528,
                        "remaining_time": 14.49589019,
                        "test": [
                          0.08070961576
                        ]
                      },
                      {
                        "iteration": 120,
                        "learn": [
                          0.08014703717
                        ],
                        "passed_time": 21.8874065,
                        "remaining_time": 14.2901249,
                        "test": [
                          0.08068849154
                        ]
                      },
                      {
                        "iteration": 121,
                        "learn": [
                          0.08013719639
                        ],
                        "passed_time": 22.04086137,
                        "remaining_time": 14.09169825,
                        "test": [
                          0.08067689419
                        ]
                      },
                      {
                        "iteration": 122,
                        "learn": [
                          0.08012784719
                        ],
                        "passed_time": 22.19414735,
                        "remaining_time": 13.89389712,
                        "test": [
                          0.08066659389
                        ]
                      },
                      {
                        "iteration": 123,
                        "learn": [
                          0.0801035765
                        ],
                        "passed_time": 22.34750793,
                        "remaining_time": 13.6968597,
                        "test": [
                          0.08064341102
                        ]
                      },
                      {
                        "iteration": 124,
                        "learn": [
                          0.08009661627
                        ],
                        "passed_time": 22.52831104,
                        "remaining_time": 13.51698662,
                        "test": [
                          0.08063655084
                        ]
                      },
                      {
                        "iteration": 125,
                        "learn": [
                          0.08008789062
                        ],
                        "passed_time": 22.67683189,
                        "remaining_time": 13.31813936,
                        "test": [
                          0.08062564817
                        ]
                      },
                      {
                        "iteration": 126,
                        "learn": [
                          0.08007920522
                        ],
                        "passed_time": 22.83117804,
                        "remaining_time": 13.12343304,
                        "test": [
                          0.08061715895
                        ]
                      },
                      {
                        "iteration": 127,
                        "learn": [
                          0.08007117951
                        ],
                        "passed_time": 22.98227704,
                        "remaining_time": 12.92753084,
                        "test": [
                          0.08060916438
                        ]
                      },
                      {
                        "iteration": 128,
                        "learn": [
                          0.08006345723
                        ],
                        "passed_time": 23.14436518,
                        "remaining_time": 12.73837154,
                        "test": [
                          0.08060214182
                        ]
                      },
                      {
                        "iteration": 129,
                        "learn": [
                          0.08005692168
                        ],
                        "passed_time": 23.33068452,
                        "remaining_time": 12.56267628,
                        "test": [
                          0.08059541007
                        ]
                      },
                      {
                        "iteration": 130,
                        "learn": [
                          0.08005087843
                        ],
                        "passed_time": 23.51890018,
                        "remaining_time": 12.38781765,
                        "test": [
                          0.08058916299
                        ]
                      },
                      {
                        "iteration": 131,
                        "learn": [
                          0.08003346388
                        ],
                        "passed_time": 23.70374855,
                        "remaining_time": 12.21102198,
                        "test": [
                          0.08057243353
                        ]
                      },
                      {
                        "iteration": 132,
                        "learn": [
                          0.08002634141
                        ],
                        "passed_time": 23.85085315,
                        "remaining_time": 12.01509144,
                        "test": [
                          0.08056320849
                        ]
                      },
                      {
                        "iteration": 133,
                        "learn": [
                          0.0800208618
                        ],
                        "passed_time": 24.0297445,
                        "remaining_time": 11.8355458,
                        "test": [
                          0.08055956378
                        ]
                      },
                      {
                        "iteration": 134,
                        "learn": [
                          0.08000172341
                        ],
                        "passed_time": 24.211306,
                        "remaining_time": 11.65729548,
                        "test": [
                          0.08054247382
                        ]
                      },
                      {
                        "iteration": 135,
                        "learn": [
                          0.07997949168
                        ],
                        "passed_time": 24.36632517,
                        "remaining_time": 11.46650596,
                        "test": [
                          0.08052134422
                        ]
                      },
                      {
                        "iteration": 136,
                        "learn": [
                          0.07996237119
                        ],
                        "passed_time": 24.53703483,
                        "remaining_time": 11.28345397,
                        "test": [
                          0.08050646994
                        ]
                      },
                      {
                        "iteration": 137,
                        "learn": [
                          0.07995560351
                        ],
                        "passed_time": 24.68715962,
                        "remaining_time": 11.09133259,
                        "test": [
                          0.0804979702
                        ]
                      },
                      {
                        "iteration": 138,
                        "learn": [
                          0.07994937185
                        ],
                        "passed_time": 24.83689856,
                        "remaining_time": 10.89964613,
                        "test": [
                          0.08048988262
                        ]
                      },
                      {
                        "iteration": 139,
                        "learn": [
                          0.07994312445
                        ],
                        "passed_time": 24.99096007,
                        "remaining_time": 10.71041146,
                        "test": [
                          0.08048375128
                        ]
                      },
                      {
                        "iteration": 140,
                        "learn": [
                          0.07992809421
                        ],
                        "passed_time": 25.17588359,
                        "remaining_time": 10.53458959,
                        "test": [
                          0.08046909055
                        ]
                      },
                      {
                        "iteration": 141,
                        "learn": [
                          0.07992243074
                        ],
                        "passed_time": 25.33444551,
                        "remaining_time": 10.34787211,
                        "test": [
                          0.08046202709
                        ]
                      },
                      {
                        "iteration": 142,
                        "learn": [
                          0.07990738715
                        ],
                        "passed_time": 25.76964537,
                        "remaining_time": 10.27181669,
                        "test": [
                          0.08044798859
                        ]
                      },
                      {
                        "iteration": 143,
                        "learn": [
                          0.07990193393
                        ],
                        "passed_time": 25.94911846,
                        "remaining_time": 10.09132385,
                        "test": [
                          0.08044371555
                        ]
                      },
                      {
                        "iteration": 144,
                        "learn": [
                          0.0798957014
                        ],
                        "passed_time": 26.11680954,
                        "remaining_time": 9.906376031,
                        "test": [
                          0.08043579377
                        ]
                      },
                      {
                        "iteration": 145,
                        "learn": [
                          0.07989019238
                        ],
                        "passed_time": 26.26776269,
                        "remaining_time": 9.715473872,
                        "test": [
                          0.08042950427
                        ]
                      },
                      {
                        "iteration": 146,
                        "learn": [
                          0.07986943925
                        ],
                        "passed_time": 26.43440354,
                        "remaining_time": 9.530771344,
                        "test": [
                          0.08041446764
                        ]
                      },
                      {
                        "iteration": 147,
                        "learn": [
                          0.07985390538
                        ],
                        "passed_time": 26.61481234,
                        "remaining_time": 9.351150282,
                        "test": [
                          0.08039931651
                        ]
                      },
                      {
                        "iteration": 148,
                        "learn": [
                          0.07984925962
                        ],
                        "passed_time": 26.79628963,
                        "remaining_time": 9.171884369,
                        "test": [
                          0.08039545591
                        ]
                      },
                      {
                        "iteration": 149,
                        "learn": [
                          0.07983509521
                        ],
                        "passed_time": 26.97382964,
                        "remaining_time": 8.991276547,
                        "test": [
                          0.08038160727
                        ]
                      },
                      {
                        "iteration": 150,
                        "learn": [
                          0.07980829619
                        ],
                        "passed_time": 27.14075121,
                        "remaining_time": 8.807263638,
                        "test": [
                          0.08035720964
                        ]
                      },
                      {
                        "iteration": 151,
                        "learn": [
                          0.07979009023
                        ],
                        "passed_time": 27.29849973,
                        "remaining_time": 8.620578862,
                        "test": [
                          0.08034440105
                        ]
                      },
                      {
                        "iteration": 152,
                        "learn": [
                          0.07977617711
                        ],
                        "passed_time": 27.48511838,
                        "remaining_time": 8.44314094,
                        "test": [
                          0.08033289319
                        ]
                      },
                      {
                        "iteration": 153,
                        "learn": [
                          0.07977132175
                        ],
                        "passed_time": 27.63217619,
                        "remaining_time": 8.253766912,
                        "test": [
                          0.08032619013
                        ]
                      },
                      {
                        "iteration": 154,
                        "learn": [
                          0.07975896482
                        ],
                        "passed_time": 27.79920246,
                        "remaining_time": 8.070736199,
                        "test": [
                          0.08031408863
                        ]
                      },
                      {
                        "iteration": 155,
                        "learn": [
                          0.07974708168
                        ],
                        "passed_time": 27.9859571,
                        "remaining_time": 7.893475078,
                        "test": [
                          0.08030252834
                        ]
                      },
                      {
                        "iteration": 156,
                        "learn": [
                          0.07974254013
                        ],
                        "passed_time": 28.15059017,
                        "remaining_time": 7.710034249,
                        "test": [
                          0.08029791704
                        ]
                      },
                      {
                        "iteration": 157,
                        "learn": [
                          0.07971658232
                        ],
                        "passed_time": 28.33586084,
                        "remaining_time": 7.532317437,
                        "test": [
                          0.08028772256
                        ]
                      },
                      {
                        "iteration": 158,
                        "learn": [
                          0.07969561182
                        ],
                        "passed_time": 28.52221612,
                        "remaining_time": 7.354785288,
                        "test": [
                          0.0802674719
                        ]
                      },
                      {
                        "iteration": 159,
                        "learn": [
                          0.07969047521
                        ],
                        "passed_time": 28.67264298,
                        "remaining_time": 7.168160745,
                        "test": [
                          0.08025876009
                        ]
                      },
                      {
                        "iteration": 160,
                        "learn": [
                          0.07966463661
                        ],
                        "passed_time": 28.83554188,
                        "remaining_time": 6.985007038,
                        "test": [
                          0.08023827174
                        ]
                      },
                      {
                        "iteration": 161,
                        "learn": [
                          0.07965404343
                        ],
                        "passed_time": 29.00788741,
                        "remaining_time": 6.80431927,
                        "test": [
                          0.08022846707
                        ]
                      },
                      {
                        "iteration": 162,
                        "learn": [
                          0.07964976923
                        ],
                        "passed_time": 29.19995615,
                        "remaining_time": 6.628210905,
                        "test": [
                          0.080223205
                        ]
                      },
                      {
                        "iteration": 163,
                        "learn": [
                          0.07962981818
                        ],
                        "passed_time": 29.52039361,
                        "remaining_time": 6.480086402,
                        "test": [
                          0.08020106453
                        ]
                      },
                      {
                        "iteration": 164,
                        "learn": [
                          0.07959780781
                        ],
                        "passed_time": 29.87485878,
                        "remaining_time": 6.337091257,
                        "test": [
                          0.08015665189
                        ]
                      },
                      {
                        "iteration": 165,
                        "learn": [
                          0.07959383741
                        ],
                        "passed_time": 30.16045741,
                        "remaining_time": 6.177443084,
                        "test": [
                          0.08015151307
                        ]
                      },
                      {
                        "iteration": 166,
                        "learn": [
                          0.07957133007
                        ],
                        "passed_time": 30.50458493,
                        "remaining_time": 6.027852111,
                        "test": [
                          0.08014308859
                        ]
                      },
                      {
                        "iteration": 167,
                        "learn": [
                          0.07955388324
                        ],
                        "passed_time": 30.86415641,
                        "remaining_time": 5.878886935,
                        "test": [
                          0.08012590597
                        ]
                      },
                      {
                        "iteration": 168,
                        "learn": [
                          0.07953338494
                        ],
                        "passed_time": 31.17511814,
                        "remaining_time": 5.718512794,
                        "test": [
                          0.0801080546
                        ]
                      },
                      {
                        "iteration": 169,
                        "learn": [
                          0.07952877392
                        ],
                        "passed_time": 31.45935084,
                        "remaining_time": 5.551650148,
                        "test": [
                          0.08010063678
                        ]
                      },
                      {
                        "iteration": 170,
                        "learn": [
                          0.07951767933
                        ],
                        "passed_time": 31.74415594,
                        "remaining_time": 5.383511825,
                        "test": [
                          0.08009151953
                        ]
                      },
                      {
                        "iteration": 171,
                        "learn": [
                          0.07950372142
                        ],
                        "passed_time": 31.93797915,
                        "remaining_time": 5.199205908,
                        "test": [
                          0.08008351967
                        ]
                      },
                      {
                        "iteration": 172,
                        "learn": [
                          0.07949409227
                        ],
                        "passed_time": 32.10448901,
                        "remaining_time": 5.010527187,
                        "test": [
                          0.0800748091
                        ]
                      },
                      {
                        "iteration": 173,
                        "learn": [
                          0.0794905261
                        ],
                        "passed_time": 32.27183918,
                        "remaining_time": 4.822228843,
                        "test": [
                          0.08006960104
                        ]
                      },
                      {
                        "iteration": 174,
                        "learn": [
                          0.07946097156
                        ],
                        "passed_time": 32.5136714,
                        "remaining_time": 4.6448102,
                        "test": [
                          0.08005325596
                        ]
                      },
                      {
                        "iteration": 175,
                        "learn": [
                          0.07945143167
                        ],
                        "passed_time": 32.70885433,
                        "remaining_time": 4.460298317,
                        "test": [
                          0.08004452335
                        ]
                      },
                      {
                        "iteration": 176,
                        "learn": [
                          0.07942443237
                        ],
                        "passed_time": 32.90493339,
                        "remaining_time": 4.275782305,
                        "test": [
                          0.08003066729
                        ]
                      },
                      {
                        "iteration": 177,
                        "learn": [
                          0.07940019842
                        ],
                        "passed_time": 33.10902696,
                        "remaining_time": 4.092126928,
                        "test": [
                          0.08001543286
                        ]
                      },
                      {
                        "iteration": 178,
                        "learn": [
                          0.07938747719
                        ],
                        "passed_time": 33.29271766,
                        "remaining_time": 3.905849558,
                        "test": [
                          0.08000980733
                        ]
                      },
                      {
                        "iteration": 179,
                        "learn": [
                          0.07937862767
                        ],
                        "passed_time": 33.45778172,
                        "remaining_time": 3.717531302,
                        "test": [
                          0.08000284871
                        ]
                      },
                      {
                        "iteration": 180,
                        "learn": [
                          0.07937437476
                        ],
                        "passed_time": 33.61913742,
                        "remaining_time": 3.529080723,
                        "test": [
                          0.07999585874
                        ]
                      },
                      {
                        "iteration": 181,
                        "learn": [
                          0.07936650065
                        ],
                        "passed_time": 33.78113864,
                        "remaining_time": 3.340991734,
                        "test": [
                          0.07998885297
                        ]
                      },
                      {
                        "iteration": 182,
                        "learn": [
                          0.07935509046
                        ],
                        "passed_time": 33.93735139,
                        "remaining_time": 3.152650129,
                        "test": [
                          0.07998133147
                        ]
                      },
                      {
                        "iteration": 183,
                        "learn": [
                          0.07935163222
                        ],
                        "passed_time": 34.08103658,
                        "remaining_time": 2.963568398,
                        "test": [
                          0.07998198972
                        ]
                      },
                      {
                        "iteration": 184,
                        "learn": [
                          0.07932909582
                        ],
                        "passed_time": 34.28952477,
                        "remaining_time": 2.780231738,
                        "test": [
                          0.07996832386
                        ]
                      },
                      {
                        "iteration": 185,
                        "learn": [
                          0.07932055859
                        ],
                        "passed_time": 34.46771674,
                        "remaining_time": 2.594344271,
                        "test": [
                          0.07996207709
                        ]
                      },
                      {
                        "iteration": 186,
                        "learn": [
                          0.07931722295
                        ],
                        "passed_time": 34.63087841,
                        "remaining_time": 2.407494221,
                        "test": [
                          0.07995728844
                        ]
                      },
                      {
                        "iteration": 187,
                        "learn": [
                          0.07931349169
                        ],
                        "passed_time": 34.78441375,
                        "remaining_time": 2.220281729,
                        "test": [
                          0.07995097622
                        ]
                      },
                      {
                        "iteration": 188,
                        "learn": [
                          0.07930033091
                        ],
                        "passed_time": 34.99337175,
                        "remaining_time": 2.036651266,
                        "test": [
                          0.07993567435
                        ]
                      },
                      {
                        "iteration": 189,
                        "learn": [
                          0.07927562161
                        ],
                        "passed_time": 35.20148431,
                        "remaining_time": 1.8527097,
                        "test": [
                          0.07992383881
                        ]
                      },
                      {
                        "iteration": 190,
                        "learn": [
                          0.07926545797
                        ],
                        "passed_time": 35.36893913,
                        "remaining_time": 1.666599226,
                        "test": [
                          0.07991740881
                        ]
                      },
                      {
                        "iteration": 191,
                        "learn": [
                          0.07924984713
                        ],
                        "passed_time": 35.55612088,
                        "remaining_time": 1.481505037,
                        "test": [
                          0.07990105684
                        ]
                      },
                      {
                        "iteration": 192,
                        "learn": [
                          0.07924640264
                        ],
                        "passed_time": 35.71476241,
                        "remaining_time": 1.295354077,
                        "test": [
                          0.07990108613
                        ]
                      },
                      {
                        "iteration": 193,
                        "learn": [
                          0.0792353153
                        ],
                        "passed_time": 35.88672645,
                        "remaining_time": 1.109898756,
                        "test": [
                          0.07989562715
                        ]
                      },
                      {
                        "iteration": 194,
                        "learn": [
                          0.07923155017
                        ],
                        "passed_time": 36.05190924,
                        "remaining_time": 0.9244079292,
                        "test": [
                          0.07989186182
                        ]
                      },
                      {
                        "iteration": 195,
                        "learn": [
                          0.07922878932
                        ],
                        "passed_time": 36.26538966,
                        "remaining_time": 0.7401099931,
                        "test": [
                          0.07988958118
                        ]
                      },
                      {
                        "iteration": 196,
                        "learn": [
                          0.07922601029
                        ],
                        "passed_time": 36.41598798,
                        "remaining_time": 0.5545581926,
                        "test": [
                          0.07988856761
                        ]
                      },
                      {
                        "iteration": 197,
                        "learn": [
                          0.0792100419
                        ],
                        "passed_time": 36.6018572,
                        "remaining_time": 0.3697157293,
                        "test": [
                          0.07988295064
                        ]
                      },
                      {
                        "iteration": 198,
                        "learn": [
                          0.07920693627
                        ],
                        "passed_time": 36.75225137,
                        "remaining_time": 0.1846846803,
                        "test": [
                          0.07988256664
                        ]
                      },
                      {
                        "iteration": 199,
                        "learn": [
                          0.07918389856
                        ],
                        "passed_time": 36.9429961,
                        "remaining_time": 0,
                        "test": [
                          0.07987195203
                        ]
                      }
                    ],
                    "meta": {
                      "iteration_count": 200,
                      "launch_mode": "Train",
                      "learn_metrics": [
                        {
                          "best_value": "Min",
                          "name": "RMSE"
                        }
                      ],
                      "learn_sets": [
                        "learn"
                      ],
                      "name": "experiment",
                      "parameters": "",
                      "test_metrics": [
                        {
                          "best_value": "Min",
                          "name": "RMSE"
                        }
                      ],
                      "test_sets": [
                        "test"
                      ]
                    }
                  },
                  "passed_iterations": 199,
                  "total_iterations": 200
                },
                "name": "fold-0",
                "path": "catboost_info/fold-0"
              },
              "catboost_info/fold-1": {
                "content": {
                  "data": {
                    "iterations": [
                      {
                        "iteration": 0,
                        "learn": [
                          0.08916667456
                        ],
                        "passed_time": 0.1530652082,
                        "remaining_time": 30.45997643,
                        "test": [
                          0.08915911138
                        ]
                      },
                      {
                        "iteration": 1,
                        "learn": [
                          0.08886163232
                        ],
                        "passed_time": 0.3018927807,
                        "remaining_time": 29.88738529,
                        "test": [
                          0.08884763515
                        ]
                      },
                      {
                        "iteration": 2,
                        "learn": [
                          0.08857362429
                        ],
                        "passed_time": 0.4598922372,
                        "remaining_time": 30.19959025,
                        "test": [
                          0.08855530824
                        ]
                      },
                      {
                        "iteration": 3,
                        "learn": [
                          0.08830037826
                        ],
                        "passed_time": 0.6166795061,
                        "remaining_time": 30.2172958,
                        "test": [
                          0.0882771443
                        ]
                      },
                      {
                        "iteration": 4,
                        "learn": [
                          0.08804207852
                        ],
                        "passed_time": 0.770437727,
                        "remaining_time": 30.04707135,
                        "test": [
                          0.088016305
                        ]
                      },
                      {
                        "iteration": 5,
                        "learn": [
                          0.08779683207
                        ],
                        "passed_time": 0.9609968896,
                        "remaining_time": 31.07223276,
                        "test": [
                          0.08777179414
                        ]
                      },
                      {
                        "iteration": 6,
                        "learn": [
                          0.08756605506
                        ],
                        "passed_time": 1.236673674,
                        "remaining_time": 34.09685988,
                        "test": [
                          0.08754204911
                        ]
                      },
                      {
                        "iteration": 7,
                        "learn": [
                          0.08734593682
                        ],
                        "passed_time": 1.531951319,
                        "remaining_time": 36.76683165,
                        "test": [
                          0.08732337664
                        ]
                      },
                      {
                        "iteration": 8,
                        "learn": [
                          0.08713830139
                        ],
                        "passed_time": 1.815344281,
                        "remaining_time": 38.52563974,
                        "test": [
                          0.08711858008
                        ]
                      },
                      {
                        "iteration": 9,
                        "learn": [
                          0.08694341766
                        ],
                        "passed_time": 2.101024795,
                        "remaining_time": 39.9194711,
                        "test": [
                          0.08692859344
                        ]
                      },
                      {
                        "iteration": 10,
                        "learn": [
                          0.08675507653
                        ],
                        "passed_time": 2.392760096,
                        "remaining_time": 41.11196892,
                        "test": [
                          0.08674423081
                        ]
                      },
                      {
                        "iteration": 11,
                        "learn": [
                          0.08657038228
                        ],
                        "passed_time": 2.676112973,
                        "remaining_time": 41.9257699,
                        "test": [
                          0.08656789821
                        ]
                      },
                      {
                        "iteration": 12,
                        "learn": [
                          0.08640027335
                        ],
                        "passed_time": 2.95470068,
                        "remaining_time": 42.50223286,
                        "test": [
                          0.08640600515
                        ]
                      },
                      {
                        "iteration": 13,
                        "learn": [
                          0.08621378671
                        ],
                        "passed_time": 3.229016016,
                        "remaining_time": 42.89978422,
                        "test": [
                          0.08622908632
                        ]
                      },
                      {
                        "iteration": 14,
                        "learn": [
                          0.08603596068
                        ],
                        "passed_time": 3.49042213,
                        "remaining_time": 43.0485396,
                        "test": [
                          0.08606099352
                        ]
                      },
                      {
                        "iteration": 15,
                        "learn": [
                          0.08589207784
                        ],
                        "passed_time": 3.646279046,
                        "remaining_time": 41.93220903,
                        "test": [
                          0.08592579848
                        ]
                      },
                      {
                        "iteration": 16,
                        "learn": [
                          0.08574820112
                        ],
                        "passed_time": 3.807504225,
                        "remaining_time": 40.98666313,
                        "test": [
                          0.08579162935
                        ]
                      },
                      {
                        "iteration": 17,
                        "learn": [
                          0.08558647283
                        ],
                        "passed_time": 3.981125413,
                        "remaining_time": 40.25360139,
                        "test": [
                          0.08563935496
                        ]
                      },
                      {
                        "iteration": 18,
                        "learn": [
                          0.08546296796
                        ],
                        "passed_time": 4.143007139,
                        "remaining_time": 39.46759433,
                        "test": [
                          0.08552670613
                        ]
                      },
                      {
                        "iteration": 19,
                        "learn": [
                          0.0852820788
                        ],
                        "passed_time": 4.301296119,
                        "remaining_time": 38.71166507,
                        "test": [
                          0.08535659967
                        ]
                      },
                      {
                        "iteration": 20,
                        "learn": [
                          0.08515893291
                        ],
                        "passed_time": 4.474532925,
                        "remaining_time": 38.14006636,
                        "test": [
                          0.08524288514
                        ]
                      },
                      {
                        "iteration": 21,
                        "learn": [
                          0.08504989079
                        ],
                        "passed_time": 4.637492976,
                        "remaining_time": 37.52153408,
                        "test": [
                          0.08514520121
                        ]
                      },
                      {
                        "iteration": 22,
                        "learn": [
                          0.08494716091
                        ],
                        "passed_time": 4.802328891,
                        "remaining_time": 36.95705277,
                        "test": [
                          0.08505392854
                        ]
                      },
                      {
                        "iteration": 23,
                        "learn": [
                          0.08482425628
                        ],
                        "passed_time": 4.973742746,
                        "remaining_time": 36.47411347,
                        "test": [
                          0.08493912938
                        ]
                      },
                      {
                        "iteration": 24,
                        "learn": [
                          0.08466441092
                        ],
                        "passed_time": 5.132549591,
                        "remaining_time": 35.92784713,
                        "test": [
                          0.08478875847
                        ]
                      },
                      {
                        "iteration": 25,
                        "learn": [
                          0.08457057468
                        ],
                        "passed_time": 5.294373545,
                        "remaining_time": 35.4315768,
                        "test": [
                          0.08470620001
                        ]
                      },
                      {
                        "iteration": 26,
                        "learn": [
                          0.08444723351
                        ],
                        "passed_time": 5.474101523,
                        "remaining_time": 35.07479865,
                        "test": [
                          0.08459175291
                        ]
                      },
                      {
                        "iteration": 27,
                        "learn": [
                          0.08436706647
                        ],
                        "passed_time": 5.636203362,
                        "remaining_time": 34.62239208,
                        "test": [
                          0.08452169855
                        ]
                      },
                      {
                        "iteration": 28,
                        "learn": [
                          0.08422337774
                        ],
                        "passed_time": 5.803284454,
                        "remaining_time": 34.21936695,
                        "test": [
                          0.08438853037
                        ]
                      },
                      {
                        "iteration": 29,
                        "learn": [
                          0.08414452599
                        ],
                        "passed_time": 5.966264702,
                        "remaining_time": 33.80883331,
                        "test": [
                          0.08432128127
                        ]
                      },
                      {
                        "iteration": 30,
                        "learn": [
                          0.08401137768
                        ],
                        "passed_time": 6.134524835,
                        "remaining_time": 33.44305475,
                        "test": [
                          0.08419755289
                        ]
                      },
                      {
                        "iteration": 31,
                        "learn": [
                          0.08394411266
                        ],
                        "passed_time": 6.296350679,
                        "remaining_time": 33.05584107,
                        "test": [
                          0.08413409064
                        ]
                      },
                      {
                        "iteration": 32,
                        "learn": [
                          0.08387653703
                        ],
                        "passed_time": 6.474909724,
                        "remaining_time": 32.76696739,
                        "test": [
                          0.08407650639
                        ]
                      },
                      {
                        "iteration": 33,
                        "learn": [
                          0.08377346892
                        ],
                        "passed_time": 6.638739186,
                        "remaining_time": 32.41266779,
                        "test": [
                          0.08398159623
                        ]
                      },
                      {
                        "iteration": 34,
                        "learn": [
                          0.0836964067
                        ],
                        "passed_time": 6.805919275,
                        "remaining_time": 32.08504801,
                        "test": [
                          0.08391190015
                        ]
                      },
                      {
                        "iteration": 35,
                        "learn": [
                          0.08362055922
                        ],
                        "passed_time": 6.967704124,
                        "remaining_time": 31.74176323,
                        "test": [
                          0.08384304099
                        ]
                      },
                      {
                        "iteration": 36,
                        "learn": [
                          0.08355905593
                        ],
                        "passed_time": 7.137941087,
                        "remaining_time": 31.44552425,
                        "test": [
                          0.08378787503
                        ]
                      },
                      {
                        "iteration": 37,
                        "learn": [
                          0.08344508967
                        ],
                        "passed_time": 7.295320502,
                        "remaining_time": 31.10110319,
                        "test": [
                          0.08368446425
                        ]
                      },
                      {
                        "iteration": 38,
                        "learn": [
                          0.08333696471
                        ],
                        "passed_time": 7.46909574,
                        "remaining_time": 30.83395934,
                        "test": [
                          0.08358796944
                        ]
                      },
                      {
                        "iteration": 39,
                        "learn": [
                          0.08328119881
                        ],
                        "passed_time": 7.630198865,
                        "remaining_time": 30.52079546,
                        "test": [
                          0.08353629706
                        ]
                      },
                      {
                        "iteration": 40,
                        "learn": [
                          0.08317712162
                        ],
                        "passed_time": 7.79289109,
                        "remaining_time": 30.22121179,
                        "test": [
                          0.08344132543
                        ]
                      },
                      {
                        "iteration": 41,
                        "learn": [
                          0.08312724454
                        ],
                        "passed_time": 7.957344083,
                        "remaining_time": 29.9347706,
                        "test": [
                          0.08339490547
                        ]
                      },
                      {
                        "iteration": 42,
                        "learn": [
                          0.08306251806
                        ],
                        "passed_time": 8.133089732,
                        "remaining_time": 29.6952346,
                        "test": [
                          0.08333728335
                        ]
                      },
                      {
                        "iteration": 43,
                        "learn": [
                          0.0830174248
                        ],
                        "passed_time": 8.299572569,
                        "remaining_time": 29.42575729,
                        "test": [
                          0.08330018
                        ]
                      },
                      {
                        "iteration": 44,
                        "learn": [
                          0.08292205032
                        ],
                        "passed_time": 8.469411314,
                        "remaining_time": 29.17241675,
                        "test": [
                          0.08321321387
                        ]
                      },
                      {
                        "iteration": 45,
                        "learn": [
                          0.08287359151
                        ],
                        "passed_time": 8.632255289,
                        "remaining_time": 28.89928945,
                        "test": [
                          0.08317154438
                        ]
                      },
                      {
                        "iteration": 46,
                        "learn": [
                          0.08283010104
                        ],
                        "passed_time": 8.79878893,
                        "remaining_time": 28.64286609,
                        "test": [
                          0.08312948697
                        ]
                      },
                      {
                        "iteration": 47,
                        "learn": [
                          0.082741517
                        ],
                        "passed_time": 8.956645724,
                        "remaining_time": 28.36271146,
                        "test": [
                          0.0830526149
                        ]
                      },
                      {
                        "iteration": 48,
                        "learn": [
                          0.08265535211
                        ],
                        "passed_time": 9.123077628,
                        "remaining_time": 28.11397391,
                        "test": [
                          0.08297005933
                        ]
                      },
                      {
                        "iteration": 49,
                        "learn": [
                          0.08261662363
                        ],
                        "passed_time": 9.286849676,
                        "remaining_time": 27.86054903,
                        "test": [
                          0.08293326474
                        ]
                      },
                      {
                        "iteration": 50,
                        "learn": [
                          0.08254615702
                        ],
                        "passed_time": 9.466425863,
                        "remaining_time": 27.65681282,
                        "test": [
                          0.08286874045
                        ]
                      },
                      {
                        "iteration": 51,
                        "learn": [
                          0.08246516272
                        ],
                        "passed_time": 9.625515282,
                        "remaining_time": 27.39569734,
                        "test": [
                          0.08279523185
                        ]
                      },
                      {
                        "iteration": 52,
                        "learn": [
                          0.08243025341
                        ],
                        "passed_time": 9.802112385,
                        "remaining_time": 27.18699095,
                        "test": [
                          0.08276212724
                        ]
                      },
                      {
                        "iteration": 53,
                        "learn": [
                          0.08235399527
                        ],
                        "passed_time": 9.963216069,
                        "remaining_time": 26.93758419,
                        "test": [
                          0.08269468772
                        ]
                      },
                      {
                        "iteration": 54,
                        "learn": [
                          0.08232065431
                        ],
                        "passed_time": 10.14277584,
                        "remaining_time": 26.74004539,
                        "test": [
                          0.08266181861
                        ]
                      },
                      {
                        "iteration": 55,
                        "learn": [
                          0.08224412332
                        ],
                        "passed_time": 10.30599167,
                        "remaining_time": 26.50112143,
                        "test": [
                          0.08259461421
                        ]
                      },
                      {
                        "iteration": 56,
                        "learn": [
                          0.08219888392
                        ],
                        "passed_time": 10.486667,
                        "remaining_time": 26.30865579,
                        "test": [
                          0.08255556407
                        ]
                      },
                      {
                        "iteration": 57,
                        "learn": [
                          0.08217068049
                        ],
                        "passed_time": 10.65968539,
                        "remaining_time": 26.09785043,
                        "test": [
                          0.0825275634
                        ]
                      },
                      {
                        "iteration": 58,
                        "learn": [
                          0.08209218053
                        ],
                        "passed_time": 10.81449833,
                        "remaining_time": 25.84481803,
                        "test": [
                          0.08245533209
                        ]
                      },
                      {
                        "iteration": 59,
                        "learn": [
                          0.08206417704
                        ],
                        "passed_time": 10.97497286,
                        "remaining_time": 25.60827001,
                        "test": [
                          0.0824287077
                        ]
                      },
                      {
                        "iteration": 60,
                        "learn": [
                          0.08199045022
                        ],
                        "passed_time": 11.13197919,
                        "remaining_time": 25.36631324,
                        "test": [
                          0.08236353595
                        ]
                      },
                      {
                        "iteration": 61,
                        "learn": [
                          0.08196354442
                        ],
                        "passed_time": 11.29416898,
                        "remaining_time": 25.13863418,
                        "test": [
                          0.08233811212
                        ]
                      },
                      {
                        "iteration": 62,
                        "learn": [
                          0.08193030508
                        ],
                        "passed_time": 11.44813857,
                        "remaining_time": 24.89515849,
                        "test": [
                          0.08231268899
                        ]
                      },
                      {
                        "iteration": 63,
                        "learn": [
                          0.08186183765
                        ],
                        "passed_time": 11.60680797,
                        "remaining_time": 24.66446693,
                        "test": [
                          0.08225430459
                        ]
                      },
                      {
                        "iteration": 64,
                        "learn": [
                          0.08179535986
                        ],
                        "passed_time": 11.75218663,
                        "remaining_time": 24.40838762,
                        "test": [
                          0.08219506101
                        ]
                      },
                      {
                        "iteration": 65,
                        "learn": [
                          0.08176810945
                        ],
                        "passed_time": 11.92370503,
                        "remaining_time": 24.20873445,
                        "test": [
                          0.08217041542
                        ]
                      },
                      {
                        "iteration": 66,
                        "learn": [
                          0.08170460046
                        ],
                        "passed_time": 12.07845759,
                        "remaining_time": 23.9766397,
                        "test": [
                          0.08211089583
                        ]
                      },
                      {
                        "iteration": 67,
                        "learn": [
                          0.08168185276
                        ],
                        "passed_time": 12.25664557,
                        "remaining_time": 23.79231199,
                        "test": [
                          0.08208939825
                        ]
                      },
                      {
                        "iteration": 68,
                        "learn": [
                          0.08166012348
                        ],
                        "passed_time": 12.42512882,
                        "remaining_time": 23.58973732,
                        "test": [
                          0.08206872323
                        ]
                      },
                      {
                        "iteration": 69,
                        "learn": [
                          0.08159659428
                        ],
                        "passed_time": 12.59631469,
                        "remaining_time": 23.39315586,
                        "test": [
                          0.08200650254
                        ]
                      },
                      {
                        "iteration": 70,
                        "learn": [
                          0.08157896881
                        ],
                        "passed_time": 12.77214945,
                        "remaining_time": 23.20573633,
                        "test": [
                          0.08199239093
                        ]
                      },
                      {
                        "iteration": 71,
                        "learn": [
                          0.08151962659
                        ],
                        "passed_time": 12.94186398,
                        "remaining_time": 23.00775819,
                        "test": [
                          0.08194311666
                        ]
                      },
                      {
                        "iteration": 72,
                        "learn": [
                          0.08149740074
                        ],
                        "passed_time": 13.10968835,
                        "remaining_time": 22.80726603,
                        "test": [
                          0.08192653187
                        ]
                      },
                      {
                        "iteration": 73,
                        "learn": [
                          0.0814364353
                        ],
                        "passed_time": 13.27980653,
                        "remaining_time": 22.61156246,
                        "test": [
                          0.08186072962
                        ]
                      },
                      {
                        "iteration": 74,
                        "learn": [
                          0.08138041315
                        ],
                        "passed_time": 13.43354184,
                        "remaining_time": 22.3892364,
                        "test": [
                          0.0818123741
                        ]
                      },
                      {
                        "iteration": 75,
                        "learn": [
                          0.08136204706
                        ],
                        "passed_time": 13.70572985,
                        "remaining_time": 22.36198029,
                        "test": [
                          0.08179486072
                        ]
                      },
                      {
                        "iteration": 76,
                        "learn": [
                          0.08130824712
                        ],
                        "passed_time": 13.93662084,
                        "remaining_time": 22.26239434,
                        "test": [
                          0.08174419866
                        ]
                      },
                      {
                        "iteration": 77,
                        "learn": [
                          0.08128937089
                        ],
                        "passed_time": 14.24341577,
                        "remaining_time": 22.27816312,
                        "test": [
                          0.08172656771
                        ]
                      },
                      {
                        "iteration": 78,
                        "learn": [
                          0.08123330698
                        ],
                        "passed_time": 14.55975262,
                        "remaining_time": 22.30038059,
                        "test": [
                          0.08167460389
                        ]
                      },
                      {
                        "iteration": 79,
                        "learn": [
                          0.08121601992
                        ],
                        "passed_time": 14.84844056,
                        "remaining_time": 22.27266084,
                        "test": [
                          0.08165787384
                        ]
                      },
                      {
                        "iteration": 80,
                        "learn": [
                          0.08116637754
                        ],
                        "passed_time": 15.12716908,
                        "remaining_time": 22.22386569,
                        "test": [
                          0.08161096668
                        ]
                      },
                      {
                        "iteration": 81,
                        "learn": [
                          0.08115124812
                        ],
                        "passed_time": 15.44775566,
                        "remaining_time": 22.22969716,
                        "test": [
                          0.08159670391
                        ]
                      },
                      {
                        "iteration": 82,
                        "learn": [
                          0.08110171078
                        ],
                        "passed_time": 15.74217107,
                        "remaining_time": 22.19077126,
                        "test": [
                          0.08155310864
                        ]
                      },
                      {
                        "iteration": 83,
                        "learn": [
                          0.08106604529
                        ],
                        "passed_time": 16.04316827,
                        "remaining_time": 22.15485142,
                        "test": [
                          0.08152296105
                        ]
                      },
                      {
                        "iteration": 84,
                        "learn": [
                          0.08104737137
                        ],
                        "passed_time": 16.35316366,
                        "remaining_time": 22.12486848,
                        "test": [
                          0.08150731798
                        ]
                      },
                      {
                        "iteration": 85,
                        "learn": [
                          0.08101299167
                        ],
                        "passed_time": 16.51992936,
                        "remaining_time": 21.89851101,
                        "test": [
                          0.08147707886
                        ]
                      },
                      {
                        "iteration": 86,
                        "learn": [
                          0.08096662159
                        ],
                        "passed_time": 16.69491185,
                        "remaining_time": 21.68419585,
                        "test": [
                          0.08142802623
                        ]
                      },
                      {
                        "iteration": 87,
                        "learn": [
                          0.08091511334
                        ],
                        "passed_time": 16.85408908,
                        "remaining_time": 21.45065882,
                        "test": [
                          0.08138525787
                        ]
                      },
                      {
                        "iteration": 88,
                        "learn": [
                          0.08090222031
                        ],
                        "passed_time": 17.03421912,
                        "remaining_time": 21.24492497,
                        "test": [
                          0.08137320361
                        ]
                      },
                      {
                        "iteration": 89,
                        "learn": [
                          0.08088906069
                        ],
                        "passed_time": 17.20445895,
                        "remaining_time": 21.02767205,
                        "test": [
                          0.08136118699
                        ]
                      },
                      {
                        "iteration": 90,
                        "learn": [
                          0.08084436509
                        ],
                        "passed_time": 17.35806989,
                        "remaining_time": 20.79153426,
                        "test": [
                          0.08132525384
                        ]
                      },
                      {
                        "iteration": 91,
                        "learn": [
                          0.08079503966
                        ],
                        "passed_time": 17.50608531,
                        "remaining_time": 20.55062189,
                        "test": [
                          0.08127090538
                        ]
                      },
                      {
                        "iteration": 92,
                        "learn": [
                          0.08078048169
                        ],
                        "passed_time": 17.68121614,
                        "remaining_time": 20.34290459,
                        "test": [
                          0.08125728506
                        ]
                      },
                      {
                        "iteration": 93,
                        "learn": [
                          0.08076829174
                        ],
                        "passed_time": 18.01951087,
                        "remaining_time": 20.31987396,
                        "test": [
                          0.08124671146
                        ]
                      },
                      {
                        "iteration": 94,
                        "learn": [
                          0.0807388628
                        ],
                        "passed_time": 18.28903843,
                        "remaining_time": 20.21420037,
                        "test": [
                          0.08121846188
                        ]
                      },
                      {
                        "iteration": 95,
                        "learn": [
                          0.08069739669
                        ],
                        "passed_time": 18.45420958,
                        "remaining_time": 19.99206038,
                        "test": [
                          0.08117982733
                        ]
                      },
                      {
                        "iteration": 96,
                        "learn": [
                          0.08063816273
                        ],
                        "passed_time": 18.61053381,
                        "remaining_time": 19.76170085,
                        "test": [
                          0.08112824951
                        ]
                      },
                      {
                        "iteration": 97,
                        "learn": [
                          0.0806275723
                        ],
                        "passed_time": 18.91478952,
                        "remaining_time": 19.68682175,
                        "test": [
                          0.08111978681
                        ]
                      },
                      {
                        "iteration": 98,
                        "learn": [
                          0.08060006298
                        ],
                        "passed_time": 19.25758706,
                        "remaining_time": 19.64662922,
                        "test": [
                          0.08109456093
                        ]
                      },
                      {
                        "iteration": 99,
                        "learn": [
                          0.08057461304
                        ],
                        "passed_time": 19.4187027,
                        "remaining_time": 19.4187027,
                        "test": [
                          0.08107060688
                        ]
                      },
                      {
                        "iteration": 100,
                        "learn": [
                          0.08055276606
                        ],
                        "passed_time": 19.57972499,
                        "remaining_time": 19.19200766,
                        "test": [
                          0.0810528536
                        ]
                      },
                      {
                        "iteration": 101,
                        "learn": [
                          0.08054154971
                        ],
                        "passed_time": 19.77470228,
                        "remaining_time": 18.99922376,
                        "test": [
                          0.08104298374
                        ]
                      },
                      {
                        "iteration": 102,
                        "learn": [
                          0.08053196824
                        ],
                        "passed_time": 19.95370414,
                        "remaining_time": 18.79135244,
                        "test": [
                          0.08103464974
                        ]
                      },
                      {
                        "iteration": 103,
                        "learn": [
                          0.08049296879
                        ],
                        "passed_time": 20.10547788,
                        "remaining_time": 18.55890266,
                        "test": [
                          0.08099376699
                        ]
                      },
                      {
                        "iteration": 104,
                        "learn": [
                          0.08047834508
                        ],
                        "passed_time": 20.25628887,
                        "remaining_time": 18.3271185,
                        "test": [
                          0.08098232972
                        ]
                      },
                      {
                        "iteration": 105,
                        "learn": [
                          0.08046835811
                        ],
                        "passed_time": 20.43746567,
                        "remaining_time": 18.12379031,
                        "test": [
                          0.08097304905
                        ]
                      },
                      {
                        "iteration": 106,
                        "learn": [
                          0.08044850579
                        ],
                        "passed_time": 20.59279859,
                        "remaining_time": 17.89841373,
                        "test": [
                          0.08096024307
                        ]
                      },
                      {
                        "iteration": 107,
                        "learn": [
                          0.08041279122
                        ],
                        "passed_time": 20.75461928,
                        "remaining_time": 17.67986087,
                        "test": [
                          0.08092662066
                        ]
                      },
                      {
                        "iteration": 108,
                        "learn": [
                          0.08040292103
                        ],
                        "passed_time": 20.93170713,
                        "remaining_time": 17.47509494,
                        "test": [
                          0.0809173221
                        ]
                      },
                      {
                        "iteration": 109,
                        "learn": [
                          0.08037892199
                        ],
                        "passed_time": 21.08427121,
                        "remaining_time": 17.25076735,
                        "test": [
                          0.0808956679
                        ]
                      },
                      {
                        "iteration": 110,
                        "learn": [
                          0.08037042477
                        ],
                        "passed_time": 21.26893127,
                        "remaining_time": 17.05346742,
                        "test": [
                          0.08088791049
                        ]
                      },
                      {
                        "iteration": 111,
                        "learn": [
                          0.08035032466
                        ],
                        "passed_time": 21.43653122,
                        "remaining_time": 16.84298881,
                        "test": [
                          0.08087123025
                        ]
                      },
                      {
                        "iteration": 112,
                        "learn": [
                          0.08033751831
                        ],
                        "passed_time": 21.61061076,
                        "remaining_time": 16.63825784,
                        "test": [
                          0.08086128674
                        ]
                      },
                      {
                        "iteration": 113,
                        "learn": [
                          0.08031509378
                        ],
                        "passed_time": 21.78133916,
                        "remaining_time": 16.43153656,
                        "test": [
                          0.08085018143
                        ]
                      },
                      {
                        "iteration": 114,
                        "learn": [
                          0.08029599885
                        ],
                        "passed_time": 21.94386611,
                        "remaining_time": 16.2193793,
                        "test": [
                          0.08083294277
                        ]
                      },
                      {
                        "iteration": 115,
                        "learn": [
                          0.08026142758
                        ],
                        "passed_time": 22.10269723,
                        "remaining_time": 16.00540144,
                        "test": [
                          0.08079667713
                        ]
                      },
                      {
                        "iteration": 116,
                        "learn": [
                          0.08024688119
                        ],
                        "passed_time": 22.25955767,
                        "remaining_time": 15.79096826,
                        "test": [
                          0.08078613159
                        ]
                      },
                      {
                        "iteration": 117,
                        "learn": [
                          0.08023551084
                        ],
                        "passed_time": 22.40627766,
                        "remaining_time": 15.57046413,
                        "test": [
                          0.08077730612
                        ]
                      },
                      {
                        "iteration": 118,
                        "learn": [
                          0.08022753264
                        ],
                        "passed_time": 22.58970938,
                        "remaining_time": 15.37618873,
                        "test": [
                          0.08076964913
                        ]
                      },
                      {
                        "iteration": 119,
                        "learn": [
                          0.08021608693
                        ],
                        "passed_time": 22.76645919,
                        "remaining_time": 15.17763946,
                        "test": [
                          0.08076200895
                        ]
                      },
                      {
                        "iteration": 120,
                        "learn": [
                          0.08019494293
                        ],
                        "passed_time": 22.91008501,
                        "remaining_time": 14.9578241,
                        "test": [
                          0.08073901842
                        ]
                      },
                      {
                        "iteration": 121,
                        "learn": [
                          0.08018467006
                        ],
                        "passed_time": 23.05522153,
                        "remaining_time": 14.7402236,
                        "test": [
                          0.08073120597
                        ]
                      },
                      {
                        "iteration": 122,
                        "learn": [
                          0.08017380265
                        ],
                        "passed_time": 23.22138791,
                        "remaining_time": 14.53696642,
                        "test": [
                          0.08072390456
                        ]
                      },
                      {
                        "iteration": 123,
                        "learn": [
                          0.08015303229
                        ],
                        "passed_time": 23.36447019,
                        "remaining_time": 14.32015915,
                        "test": [
                          0.08070156863
                        ]
                      },
                      {
                        "iteration": 124,
                        "learn": [
                          0.08014599148
                        ],
                        "passed_time": 23.55508269,
                        "remaining_time": 14.13304962,
                        "test": [
                          0.08069459679
                        ]
                      },
                      {
                        "iteration": 125,
                        "learn": [
                          0.0801363177
                        ],
                        "passed_time": 23.70948386,
                        "remaining_time": 13.92461751,
                        "test": [
                          0.08068838098
                        ]
                      },
                      {
                        "iteration": 126,
                        "learn": [
                          0.08013017304
                        ],
                        "passed_time": 23.91214778,
                        "remaining_time": 13.74477786,
                        "test": [
                          0.08068266805
                        ]
                      },
                      {
                        "iteration": 127,
                        "learn": [
                          0.08012073569
                        ],
                        "passed_time": 24.05690677,
                        "remaining_time": 13.53201006,
                        "test": [
                          0.0806753435
                        ]
                      },
                      {
                        "iteration": 128,
                        "learn": [
                          0.0801144358
                        ],
                        "passed_time": 24.24300713,
                        "remaining_time": 13.34305044,
                        "test": [
                          0.08066945506
                        ]
                      },
                      {
                        "iteration": 129,
                        "learn": [
                          0.08010524196
                        ],
                        "passed_time": 24.39382698,
                        "remaining_time": 13.1351376,
                        "test": [
                          0.08066377
                        ]
                      },
                      {
                        "iteration": 130,
                        "learn": [
                          0.08009912732
                        ],
                        "passed_time": 24.58625185,
                        "remaining_time": 12.95001052,
                        "test": [
                          0.08065820727
                        ]
                      },
                      {
                        "iteration": 131,
                        "learn": [
                          0.08007936247
                        ],
                        "passed_time": 24.77092432,
                        "remaining_time": 12.7607792,
                        "test": [
                          0.0806409181
                        ]
                      },
                      {
                        "iteration": 132,
                        "learn": [
                          0.08007101651
                        ],
                        "passed_time": 24.93188527,
                        "remaining_time": 12.55967152,
                        "test": [
                          0.0806341225
                        ]
                      },
                      {
                        "iteration": 133,
                        "learn": [
                          0.0800615049
                        ],
                        "passed_time": 25.08082661,
                        "remaining_time": 12.35324296,
                        "test": [
                          0.08062674542
                        ]
                      },
                      {
                        "iteration": 134,
                        "learn": [
                          0.08005433282
                        ],
                        "passed_time": 25.22969647,
                        "remaining_time": 12.14763163,
                        "test": [
                          0.08062157244
                        ]
                      },
                      {
                        "iteration": 135,
                        "learn": [
                          0.08004868035
                        ],
                        "passed_time": 25.41073088,
                        "remaining_time": 11.957991,
                        "test": [
                          0.08061647458
                        ]
                      },
                      {
                        "iteration": 136,
                        "learn": [
                          0.08004136383
                        ],
                        "passed_time": 25.57069092,
                        "remaining_time": 11.75878488,
                        "test": [
                          0.08061200091
                        ]
                      },
                      {
                        "iteration": 137,
                        "learn": [
                          0.08003414966
                        ],
                        "passed_time": 25.72630792,
                        "remaining_time": 11.55819631,
                        "test": [
                          0.08060778783
                        ]
                      },
                      {
                        "iteration": 138,
                        "learn": [
                          0.0800146209
                        ],
                        "passed_time": 25.89206109,
                        "remaining_time": 11.36270307,
                        "test": [
                          0.08059073064
                        ]
                      },
                      {
                        "iteration": 139,
                        "learn": [
                          0.08001031092
                        ],
                        "passed_time": 26.08521398,
                        "remaining_time": 11.17937742,
                        "test": [
                          0.08058675582
                        ]
                      },
                      {
                        "iteration": 140,
                        "learn": [
                          0.07999307185
                        ],
                        "passed_time": 26.27716109,
                        "remaining_time": 10.99540783,
                        "test": [
                          0.08057133018
                        ]
                      },
                      {
                        "iteration": 141,
                        "learn": [
                          0.07998643708
                        ],
                        "passed_time": 26.49436842,
                        "remaining_time": 10.82164344,
                        "test": [
                          0.08056759607
                        ]
                      },
                      {
                        "iteration": 142,
                        "learn": [
                          0.07997019971
                        ],
                        "passed_time": 26.86573921,
                        "remaining_time": 10.70872122,
                        "test": [
                          0.08055310256
                        ]
                      },
                      {
                        "iteration": 143,
                        "learn": [
                          0.0799645688
                        ],
                        "passed_time": 27.22079837,
                        "remaining_time": 10.58586603,
                        "test": [
                          0.0805479117
                        ]
                      },
                      {
                        "iteration": 144,
                        "learn": [
                          0.07995737534
                        ],
                        "passed_time": 27.52055915,
                        "remaining_time": 10.43883278,
                        "test": [
                          0.08054365839
                        ]
                      },
                      {
                        "iteration": 145,
                        "learn": [
                          0.07995160881
                        ],
                        "passed_time": 27.80895992,
                        "remaining_time": 10.28550572,
                        "test": [
                          0.08054033734
                        ]
                      },
                      {
                        "iteration": 146,
                        "learn": [
                          0.07993699156
                        ],
                        "passed_time": 28.13862943,
                        "remaining_time": 10.14522013,
                        "test": [
                          0.08052726265
                        ]
                      },
                      {
                        "iteration": 147,
                        "learn": [
                          0.07992948946
                        ],
                        "passed_time": 28.41571208,
                        "remaining_time": 9.983898838,
                        "test": [
                          0.08052088133
                        ]
                      },
                      {
                        "iteration": 148,
                        "learn": [
                          0.07991126557
                        ],
                        "passed_time": 28.69526945,
                        "remaining_time": 9.821870752,
                        "test": [
                          0.08051410392
                        ]
                      },
                      {
                        "iteration": 149,
                        "learn": [
                          0.07989483332
                        ],
                        "passed_time": 28.99719894,
                        "remaining_time": 9.665732979,
                        "test": [
                          0.08050006706
                        ]
                      },
                      {
                        "iteration": 150,
                        "learn": [
                          0.07988785297
                        ],
                        "passed_time": 29.23344547,
                        "remaining_time": 9.486349855,
                        "test": [
                          0.08049416745
                        ]
                      },
                      {
                        "iteration": 151,
                        "learn": [
                          0.07985790907
                        ],
                        "passed_time": 29.43965157,
                        "remaining_time": 9.296732075,
                        "test": [
                          0.08046036416
                        ]
                      },
                      {
                        "iteration": 152,
                        "learn": [
                          0.07982972277
                        ],
                        "passed_time": 29.64715453,
                        "remaining_time": 9.107295836,
                        "test": [
                          0.08042835142
                        ]
                      },
                      {
                        "iteration": 153,
                        "learn": [
                          0.07982482223
                        ],
                        "passed_time": 29.80907713,
                        "remaining_time": 8.904010052,
                        "test": [
                          0.08042496134
                        ]
                      },
                      {
                        "iteration": 154,
                        "learn": [
                          0.07981142169
                        ],
                        "passed_time": 29.99703064,
                        "remaining_time": 8.708815348,
                        "test": [
                          0.0804133004
                        ]
                      },
                      {
                        "iteration": 155,
                        "learn": [
                          0.07979688328
                        ],
                        "passed_time": 30.18418419,
                        "remaining_time": 8.513487849,
                        "test": [
                          0.08040165962
                        ]
                      },
                      {
                        "iteration": 156,
                        "learn": [
                          0.07979200008
                        ],
                        "passed_time": 30.3557302,
                        "remaining_time": 8.313989801,
                        "test": [
                          0.08039907588
                        ]
                      },
                      {
                        "iteration": 157,
                        "learn": [
                          0.07978079035
                        ],
                        "passed_time": 30.522289,
                        "remaining_time": 8.113519861,
                        "test": [
                          0.080394027
                        ]
                      },
                      {
                        "iteration": 158,
                        "learn": [
                          0.079766533
                        ],
                        "passed_time": 30.6949599,
                        "remaining_time": 7.915052552,
                        "test": [
                          0.08038292598
                        ]
                      },
                      {
                        "iteration": 159,
                        "learn": [
                          0.07976063039
                        ],
                        "passed_time": 30.86648022,
                        "remaining_time": 7.716620055,
                        "test": [
                          0.0803787379
                        ]
                      },
                      {
                        "iteration": 160,
                        "learn": [
                          0.07972597736
                        ],
                        "passed_time": 31.06854548,
                        "remaining_time": 7.525920955,
                        "test": [
                          0.08035135149
                        ]
                      },
                      {
                        "iteration": 161,
                        "learn": [
                          0.07971551009
                        ],
                        "passed_time": 31.25222107,
                        "remaining_time": 7.330767906,
                        "test": [
                          0.08034232033
                        ]
                      },
                      {
                        "iteration": 162,
                        "learn": [
                          0.0797096919
                        ],
                        "passed_time": 31.41231899,
                        "remaining_time": 7.130403698,
                        "test": [
                          0.08033735274
                        ]
                      },
                      {
                        "iteration": 163,
                        "learn": [
                          0.07968949225
                        ],
                        "passed_time": 31.60398444,
                        "remaining_time": 6.937459998,
                        "test": [
                          0.08031750965
                        ]
                      },
                      {
                        "iteration": 164,
                        "learn": [
                          0.0796733888
                        ],
                        "passed_time": 31.7962934,
                        "remaining_time": 6.744668297,
                        "test": [
                          0.08030675315
                        ]
                      },
                      {
                        "iteration": 165,
                        "learn": [
                          0.07966900428
                        ],
                        "passed_time": 32.01007046,
                        "remaining_time": 6.556279493,
                        "test": [
                          0.08030283443
                        ]
                      },
                      {
                        "iteration": 166,
                        "learn": [
                          0.07965506452
                        ],
                        "passed_time": 32.18434282,
                        "remaining_time": 6.359780318,
                        "test": [
                          0.08029197765
                        ]
                      },
                      {
                        "iteration": 167,
                        "learn": [
                          0.07963258299
                        ],
                        "passed_time": 32.39203342,
                        "remaining_time": 6.169911128,
                        "test": [
                          0.08027247409
                        ]
                      },
                      {
                        "iteration": 168,
                        "learn": [
                          0.07958930151
                        ],
                        "passed_time": 32.57582695,
                        "remaining_time": 5.975447547,
                        "test": [
                          0.08023485458
                        ]
                      },
                      {
                        "iteration": 169,
                        "learn": [
                          0.07958554352
                        ],
                        "passed_time": 32.77464035,
                        "remaining_time": 5.783760062,
                        "test": [
                          0.08023100062
                        ]
                      },
                      {
                        "iteration": 170,
                        "learn": [
                          0.07957261187
                        ],
                        "passed_time": 32.94552263,
                        "remaining_time": 5.587252376,
                        "test": [
                          0.08022040186
                        ]
                      },
                      {
                        "iteration": 171,
                        "learn": [
                          0.07956278794
                        ],
                        "passed_time": 33.12199848,
                        "remaining_time": 5.391953241,
                        "test": [
                          0.08021546916
                        ]
                      },
                      {
                        "iteration": 172,
                        "learn": [
                          0.07955174159
                        ],
                        "passed_time": 33.29049222,
                        "remaining_time": 5.195625954,
                        "test": [
                          0.08020544667
                        ]
                      },
                      {
                        "iteration": 173,
                        "learn": [
                          0.07954647685
                        ],
                        "passed_time": 33.44230186,
                        "remaining_time": 4.997125565,
                        "test": [
                          0.08020179955
                        ]
                      },
                      {
                        "iteration": 174,
                        "learn": [
                          0.07952600319
                        ],
                        "passed_time": 33.63925205,
                        "remaining_time": 4.805607435,
                        "test": [
                          0.08018677499
                        ]
                      },
                      {
                        "iteration": 175,
                        "learn": [
                          0.07951377904
                        ],
                        "passed_time": 33.81330039,
                        "remaining_time": 4.610904599,
                        "test": [
                          0.08017835419
                        ]
                      },
                      {
                        "iteration": 176,
                        "learn": [
                          0.07950388482
                        ],
                        "passed_time": 33.9784485,
                        "remaining_time": 4.415278618,
                        "test": [
                          0.08016825327
                        ]
                      },
                      {
                        "iteration": 177,
                        "learn": [
                          0.07948209466
                        ],
                        "passed_time": 34.19588925,
                        "remaining_time": 4.226458222,
                        "test": [
                          0.08014456134
                        ]
                      },
                      {
                        "iteration": 178,
                        "learn": [
                          0.07947712287
                        ],
                        "passed_time": 34.34967161,
                        "remaining_time": 4.029849742,
                        "test": [
                          0.08014114157
                        ]
                      },
                      {
                        "iteration": 179,
                        "learn": [
                          0.07946690112
                        ],
                        "passed_time": 34.51468461,
                        "remaining_time": 3.834964957,
                        "test": [
                          0.08013272721
                        ]
                      },
                      {
                        "iteration": 180,
                        "learn": [
                          0.07945437619
                        ],
                        "passed_time": 34.68278529,
                        "remaining_time": 3.640734368,
                        "test": [
                          0.08012308157
                        ]
                      },
                      {
                        "iteration": 181,
                        "learn": [
                          0.07944269996
                        ],
                        "passed_time": 34.8721711,
                        "remaining_time": 3.448896042,
                        "test": [
                          0.08011322191
                        ]
                      },
                      {
                        "iteration": 182,
                        "learn": [
                          0.07943756876
                        ],
                        "passed_time": 35.0322098,
                        "remaining_time": 3.254358288,
                        "test": [
                          0.08010879434
                        ]
                      },
                      {
                        "iteration": 183,
                        "learn": [
                          0.07940402123
                        ],
                        "passed_time": 35.22113994,
                        "remaining_time": 3.062707821,
                        "test": [
                          0.08008051723
                        ]
                      },
                      {
                        "iteration": 184,
                        "learn": [
                          0.07938263996
                        ],
                        "passed_time": 35.42589257,
                        "remaining_time": 2.872369668,
                        "test": [
                          0.08005585228
                        ]
                      },
                      {
                        "iteration": 185,
                        "learn": [
                          0.07937410212
                        ],
                        "passed_time": 35.59149313,
                        "remaining_time": 2.678929591,
                        "test": [
                          0.08004705442
                        ]
                      },
                      {
                        "iteration": 186,
                        "learn": [
                          0.07937042599
                        ],
                        "passed_time": 35.74261835,
                        "remaining_time": 2.484780955,
                        "test": [
                          0.08004409816
                        ]
                      },
                      {
                        "iteration": 187,
                        "learn": [
                          0.07936714467
                        ],
                        "passed_time": 35.89889747,
                        "remaining_time": 2.291418987,
                        "test": [
                          0.08004190593
                        ]
                      },
                      {
                        "iteration": 188,
                        "learn": [
                          0.07934188521
                        ],
                        "passed_time": 36.11591453,
                        "remaining_time": 2.101984443,
                        "test": [
                          0.08002339041
                        ]
                      },
                      {
                        "iteration": 189,
                        "learn": [
                          0.07930900812
                        ],
                        "passed_time": 36.2949463,
                        "remaining_time": 1.910260332,
                        "test": [
                          0.0799954561
                        ]
                      },
                      {
                        "iteration": 190,
                        "learn": [
                          0.07929910264
                        ],
                        "passed_time": 36.47530371,
                        "remaining_time": 1.718731589,
                        "test": [
                          0.07998712444
                        ]
                      },
                      {
                        "iteration": 191,
                        "learn": [
                          0.07929459252
                        ],
                        "passed_time": 36.62571708,
                        "remaining_time": 1.526071545,
                        "test": [
                          0.07998329016
                        ]
                      },
                      {
                        "iteration": 192,
                        "learn": [
                          0.07928324868
                        ],
                        "passed_time": 36.79475926,
                        "remaining_time": 1.334524947,
                        "test": [
                          0.07997466376
                        ]
                      },
                      {
                        "iteration": 193,
                        "learn": [
                          0.07927405567
                        ],
                        "passed_time": 36.969941,
                        "remaining_time": 1.143400237,
                        "test": [
                          0.07996495945
                        ]
                      },
                      {
                        "iteration": 194,
                        "learn": [
                          0.07926237892
                        ],
                        "passed_time": 37.15905195,
                        "remaining_time": 0.9527962037,
                        "test": [
                          0.07996037823
                        ]
                      },
                      {
                        "iteration": 195,
                        "learn": [
                          0.07925915257
                        ],
                        "passed_time": 37.35188951,
                        "remaining_time": 0.7622834594,
                        "test": [
                          0.07995750328
                        ]
                      },
                      {
                        "iteration": 196,
                        "learn": [
                          0.07924333881
                        ],
                        "passed_time": 37.55297059,
                        "remaining_time": 0.5718726485,
                        "test": [
                          0.07994182375
                        ]
                      },
                      {
                        "iteration": 197,
                        "learn": [
                          0.07923350387
                        ],
                        "passed_time": 37.72362489,
                        "remaining_time": 0.381046716,
                        "test": [
                          0.0799333699
                        ]
                      },
                      {
                        "iteration": 198,
                        "learn": [
                          0.07922376756
                        ],
                        "passed_time": 37.90584308,
                        "remaining_time": 0.1904816235,
                        "test": [
                          0.07992442647
                        ]
                      },
                      {
                        "iteration": 199,
                        "learn": [
                          0.07920126963
                        ],
                        "passed_time": 38.06738776,
                        "remaining_time": 0,
                        "test": [
                          0.07990736762
                        ]
                      }
                    ],
                    "meta": {
                      "iteration_count": 200,
                      "launch_mode": "Train",
                      "learn_metrics": [
                        {
                          "best_value": "Min",
                          "name": "RMSE"
                        }
                      ],
                      "learn_sets": [
                        "learn"
                      ],
                      "name": "experiment",
                      "parameters": "",
                      "test_metrics": [
                        {
                          "best_value": "Min",
                          "name": "RMSE"
                        }
                      ],
                      "test_sets": [
                        "test"
                      ]
                    }
                  },
                  "passed_iterations": 199,
                  "total_iterations": 200
                },
                "name": "fold-1",
                "path": "catboost_info/fold-1"
              },
              "catboost_info/fold-2": {
                "content": {
                  "data": {
                    "iterations": [
                      {
                        "iteration": 0,
                        "learn": [
                          0.08917780538
                        ],
                        "passed_time": 0.1563220675,
                        "remaining_time": 31.10809143,
                        "test": [
                          0.08922509299
                        ]
                      },
                      {
                        "iteration": 1,
                        "learn": [
                          0.0888992326
                        ],
                        "passed_time": 0.3148762039,
                        "remaining_time": 31.17274418,
                        "test": [
                          0.08894907833
                        ]
                      },
                      {
                        "iteration": 2,
                        "learn": [
                          0.08863640658
                        ],
                        "passed_time": 0.4773611849,
                        "remaining_time": 31.34671781,
                        "test": [
                          0.08869537202
                        ]
                      },
                      {
                        "iteration": 3,
                        "learn": [
                          0.08838310752
                        ],
                        "passed_time": 0.6356429956,
                        "remaining_time": 31.14650678,
                        "test": [
                          0.0884372026
                        ]
                      },
                      {
                        "iteration": 4,
                        "learn": [
                          0.08814533762
                        ],
                        "passed_time": 0.9761370511,
                        "remaining_time": 38.06934499,
                        "test": [
                          0.08819948202
                        ]
                      },
                      {
                        "iteration": 5,
                        "learn": [
                          0.08791759786
                        ],
                        "passed_time": 1.135253717,
                        "remaining_time": 36.70653684,
                        "test": [
                          0.08797132206
                        ]
                      },
                      {
                        "iteration": 6,
                        "learn": [
                          0.08770194792
                        ],
                        "passed_time": 1.289346245,
                        "remaining_time": 35.5491179,
                        "test": [
                          0.08774283746
                        ]
                      },
                      {
                        "iteration": 7,
                        "learn": [
                          0.08749351202
                        ],
                        "passed_time": 1.444159323,
                        "remaining_time": 34.65982376,
                        "test": [
                          0.08752501687
                        ]
                      },
                      {
                        "iteration": 8,
                        "learn": [
                          0.08729666538
                        ],
                        "passed_time": 1.593121899,
                        "remaining_time": 33.80958696,
                        "test": [
                          0.08731583932
                        ]
                      },
                      {
                        "iteration": 9,
                        "learn": [
                          0.0871103154
                        ],
                        "passed_time": 1.749544864,
                        "remaining_time": 33.24135241,
                        "test": [
                          0.08711917543
                        ]
                      },
                      {
                        "iteration": 10,
                        "learn": [
                          0.08693085284
                        ],
                        "passed_time": 1.89905283,
                        "remaining_time": 32.62918044,
                        "test": [
                          0.08693161871
                        ]
                      },
                      {
                        "iteration": 11,
                        "learn": [
                          0.08676322602
                        ],
                        "passed_time": 2.06384924,
                        "remaining_time": 32.33363809,
                        "test": [
                          0.08675893488
                        ]
                      },
                      {
                        "iteration": 12,
                        "learn": [
                          0.086603843
                        ],
                        "passed_time": 2.215659106,
                        "remaining_time": 31.87140406,
                        "test": [
                          0.08658601308
                        ]
                      },
                      {
                        "iteration": 13,
                        "learn": [
                          0.08645360139
                        ],
                        "passed_time": 2.370299206,
                        "remaining_time": 31.49111802,
                        "test": [
                          0.08642228929
                        ]
                      },
                      {
                        "iteration": 14,
                        "learn": [
                          0.08628488998
                        ],
                        "passed_time": 2.517613109,
                        "remaining_time": 31.05056168,
                        "test": [
                          0.08624957892
                        ]
                      },
                      {
                        "iteration": 15,
                        "learn": [
                          0.08615278083
                        ],
                        "passed_time": 2.666900223,
                        "remaining_time": 30.66935257,
                        "test": [
                          0.08610652206
                        ]
                      },
                      {
                        "iteration": 16,
                        "learn": [
                          0.08602692013
                        ],
                        "passed_time": 2.826629532,
                        "remaining_time": 30.42783555,
                        "test": [
                          0.08597057449
                        ]
                      },
                      {
                        "iteration": 17,
                        "learn": [
                          0.0859072629
                        ],
                        "passed_time": 2.985145803,
                        "remaining_time": 30.1831409,
                        "test": [
                          0.08584125169
                        ]
                      },
                      {
                        "iteration": 18,
                        "learn": [
                          0.08575906126
                        ],
                        "passed_time": 3.147159293,
                        "remaining_time": 29.98083327,
                        "test": [
                          0.08568797912
                        ]
                      },
                      {
                        "iteration": 19,
                        "learn": [
                          0.08559310398
                        ],
                        "passed_time": 3.303422418,
                        "remaining_time": 29.73080176,
                        "test": [
                          0.08553209193
                        ]
                      },
                      {
                        "iteration": 20,
                        "learn": [
                          0.08548973884
                        ],
                        "passed_time": 3.468554476,
                        "remaining_time": 29.56529767,
                        "test": [
                          0.0854192977
                        ]
                      },
                      {
                        "iteration": 21,
                        "learn": [
                          0.08533904685
                        ],
                        "passed_time": 3.63252488,
                        "remaining_time": 29.39042857,
                        "test": [
                          0.08527714
                        ]
                      },
                      {
                        "iteration": 22,
                        "learn": [
                          0.0852416293
                        ],
                        "passed_time": 3.805021169,
                        "remaining_time": 29.28211943,
                        "test": [
                          0.08517074588
                        ]
                      },
                      {
                        "iteration": 23,
                        "learn": [
                          0.0851235999
                        ],
                        "passed_time": 3.965367819,
                        "remaining_time": 29.07936401,
                        "test": [
                          0.08504385278
                        ]
                      },
                      {
                        "iteration": 24,
                        "learn": [
                          0.08497878698
                        ],
                        "passed_time": 4.141084593,
                        "remaining_time": 28.98759215,
                        "test": [
                          0.08489374503
                        ]
                      },
                      {
                        "iteration": 25,
                        "learn": [
                          0.08489446362
                        ],
                        "passed_time": 4.304351755,
                        "remaining_time": 28.80604636,
                        "test": [
                          0.08480808168
                        ]
                      },
                      {
                        "iteration": 26,
                        "learn": [
                          0.084811847
                        ],
                        "passed_time": 4.476673556,
                        "remaining_time": 28.6838713,
                        "test": [
                          0.08471655264
                        ]
                      },
                      {
                        "iteration": 27,
                        "learn": [
                          0.08473452215
                        ],
                        "passed_time": 4.637440284,
                        "remaining_time": 28.48713317,
                        "test": [
                          0.08463766203
                        ]
                      },
                      {
                        "iteration": 28,
                        "learn": [
                          0.08460337328
                        ],
                        "passed_time": 4.810427441,
                        "remaining_time": 28.36493422,
                        "test": [
                          0.08451668485
                        ]
                      },
                      {
                        "iteration": 29,
                        "learn": [
                          0.08452790651
                        ],
                        "passed_time": 4.973288365,
                        "remaining_time": 28.1819674,
                        "test": [
                          0.08443281849
                        ]
                      },
                      {
                        "iteration": 30,
                        "learn": [
                          0.08440352608
                        ],
                        "passed_time": 5.15486106,
                        "remaining_time": 28.10230707,
                        "test": [
                          0.08430901896
                        ]
                      },
                      {
                        "iteration": 31,
                        "learn": [
                          0.08434014143
                        ],
                        "passed_time": 5.312923098,
                        "remaining_time": 27.89284627,
                        "test": [
                          0.08423999577
                        ]
                      },
                      {
                        "iteration": 32,
                        "learn": [
                          0.08427333837
                        ],
                        "passed_time": 5.473010081,
                        "remaining_time": 27.69674799,
                        "test": [
                          0.08417195629
                        ]
                      },
                      {
                        "iteration": 33,
                        "learn": [
                          0.08416809549
                        ],
                        "passed_time": 5.622630974,
                        "remaining_time": 27.45166887,
                        "test": [
                          0.08406075673
                        ]
                      },
                      {
                        "iteration": 34,
                        "learn": [
                          0.08409500647
                        ],
                        "passed_time": 5.783344808,
                        "remaining_time": 27.26433981,
                        "test": [
                          0.08398062516
                        ]
                      },
                      {
                        "iteration": 35,
                        "learn": [
                          0.0840216049
                        ],
                        "passed_time": 5.932787173,
                        "remaining_time": 27.02714157,
                        "test": [
                          0.08390038582
                        ]
                      },
                      {
                        "iteration": 36,
                        "learn": [
                          0.08390782034
                        ],
                        "passed_time": 6.101851995,
                        "remaining_time": 26.88113176,
                        "test": [
                          0.08378009678
                        ]
                      },
                      {
                        "iteration": 37,
                        "learn": [
                          0.08385267761
                        ],
                        "passed_time": 6.256850799,
                        "remaining_time": 26.67394288,
                        "test": [
                          0.08372379584
                        ]
                      },
                      {
                        "iteration": 38,
                        "learn": [
                          0.08374651503
                        ],
                        "passed_time": 6.407922409,
                        "remaining_time": 26.45321815,
                        "test": [
                          0.08362711963
                        ]
                      },
                      {
                        "iteration": 39,
                        "learn": [
                          0.08369438046
                        ],
                        "passed_time": 6.564888225,
                        "remaining_time": 26.2595529,
                        "test": [
                          0.08357377203
                        ]
                      },
                      {
                        "iteration": 40,
                        "learn": [
                          0.0835924329
                        ],
                        "passed_time": 6.713547629,
                        "remaining_time": 26.03546519,
                        "test": [
                          0.08346521854
                        ]
                      },
                      {
                        "iteration": 41,
                        "learn": [
                          0.08354458991
                        ],
                        "passed_time": 6.881130607,
                        "remaining_time": 25.886158,
                        "test": [
                          0.08341647029
                        ]
                      },
                      {
                        "iteration": 42,
                        "learn": [
                          0.08349948591
                        ],
                        "passed_time": 7.039294213,
                        "remaining_time": 25.7016091,
                        "test": [
                          0.08337179148
                        ]
                      },
                      {
                        "iteration": 43,
                        "learn": [
                          0.08344088815
                        ],
                        "passed_time": 7.209893291,
                        "remaining_time": 25.56234894,
                        "test": [
                          0.08330821545
                        ]
                      },
                      {
                        "iteration": 44,
                        "learn": [
                          0.08334637356
                        ],
                        "passed_time": 7.359268604,
                        "remaining_time": 25.34859186,
                        "test": [
                          0.08320769647
                        ]
                      },
                      {
                        "iteration": 45,
                        "learn": [
                          0.08330508539
                        ],
                        "passed_time": 7.521230661,
                        "remaining_time": 25.17977221,
                        "test": [
                          0.08316612846
                        ]
                      },
                      {
                        "iteration": 46,
                        "learn": [
                          0.08321429069
                        ],
                        "passed_time": 7.669891004,
                        "remaining_time": 24.96794306,
                        "test": [
                          0.08307598061
                        ]
                      },
                      {
                        "iteration": 47,
                        "learn": [
                          0.08317689047
                        ],
                        "passed_time": 7.836955228,
                        "remaining_time": 24.81702489,
                        "test": [
                          0.08303892311
                        ]
                      },
                      {
                        "iteration": 48,
                        "learn": [
                          0.0831148723
                        ],
                        "passed_time": 7.988579228,
                        "remaining_time": 24.6178666,
                        "test": [
                          0.08296725768
                        ]
                      },
                      {
                        "iteration": 49,
                        "learn": [
                          0.08307889553
                        ],
                        "passed_time": 8.16509887,
                        "remaining_time": 24.49529661,
                        "test": [
                          0.08293104068
                        ]
                      },
                      {
                        "iteration": 50,
                        "learn": [
                          0.0830045948
                        ],
                        "passed_time": 8.32901882,
                        "remaining_time": 24.33380008,
                        "test": [
                          0.08285069818
                        ]
                      },
                      {
                        "iteration": 51,
                        "learn": [
                          0.08292035009
                        ],
                        "passed_time": 8.493589258,
                        "remaining_time": 24.17406173,
                        "test": [
                          0.08275909717
                        ]
                      },
                      {
                        "iteration": 52,
                        "learn": [
                          0.08288804512
                        ],
                        "passed_time": 8.6516232,
                        "remaining_time": 23.99601152,
                        "test": [
                          0.08272619136
                        ]
                      },
                      {
                        "iteration": 53,
                        "learn": [
                          0.08280657886
                        ],
                        "passed_time": 8.814296607,
                        "remaining_time": 23.83124638,
                        "test": [
                          0.0826585247
                        ]
                      },
                      {
                        "iteration": 54,
                        "learn": [
                          0.08272819192
                        ],
                        "passed_time": 9.099445908,
                        "remaining_time": 23.9894483,
                        "test": [
                          0.08257475509
                        ]
                      },
                      {
                        "iteration": 55,
                        "learn": [
                          0.08265395624
                        ],
                        "passed_time": 9.353500018,
                        "remaining_time": 24.05185719,
                        "test": [
                          0.08249331829
                        ]
                      },
                      {
                        "iteration": 56,
                        "learn": [
                          0.08262364584
                        ],
                        "passed_time": 9.616377556,
                        "remaining_time": 24.12529808,
                        "test": [
                          0.0824636055
                        ]
                      },
                      {
                        "iteration": 57,
                        "learn": [
                          0.08259334221
                        ],
                        "passed_time": 9.921204656,
                        "remaining_time": 24.28984588,
                        "test": [
                          0.08242975414
                        ]
                      },
                      {
                        "iteration": 58,
                        "learn": [
                          0.08251805751
                        ],
                        "passed_time": 10.21275057,
                        "remaining_time": 24.40674289,
                        "test": [
                          0.08235581129
                        ]
                      },
                      {
                        "iteration": 59,
                        "learn": [
                          0.08249159509
                        ],
                        "passed_time": 10.52090498,
                        "remaining_time": 24.54877829,
                        "test": [
                          0.08232952737
                        ]
                      },
                      {
                        "iteration": 60,
                        "learn": [
                          0.08246416426
                        ],
                        "passed_time": 10.81237016,
                        "remaining_time": 24.6380238,
                        "test": [
                          0.08229873219
                        ]
                      },
                      {
                        "iteration": 61,
                        "learn": [
                          0.08238936933
                        ],
                        "passed_time": 11.08435876,
                        "remaining_time": 24.67163723,
                        "test": [
                          0.08222730433
                        ]
                      },
                      {
                        "iteration": 62,
                        "learn": [
                          0.08236397579
                        ],
                        "passed_time": 11.39988716,
                        "remaining_time": 24.7902308,
                        "test": [
                          0.08220233996
                        ]
                      },
                      {
                        "iteration": 63,
                        "learn": [
                          0.08229340928
                        ],
                        "passed_time": 11.61254558,
                        "remaining_time": 24.67665935,
                        "test": [
                          0.08213533529
                        ]
                      },
                      {
                        "iteration": 64,
                        "learn": [
                          0.08222677552
                        ],
                        "passed_time": 11.76008883,
                        "remaining_time": 24.42479988,
                        "test": [
                          0.08206332849
                        ]
                      },
                      {
                        "iteration": 65,
                        "learn": [
                          0.08220081434
                        ],
                        "passed_time": 11.91573504,
                        "remaining_time": 24.19255296,
                        "test": [
                          0.0820408894
                        ]
                      },
                      {
                        "iteration": 66,
                        "learn": [
                          0.08217739461
                        ],
                        "passed_time": 12.08726307,
                        "remaining_time": 23.99411923,
                        "test": [
                          0.08201760698
                        ]
                      },
                      {
                        "iteration": 67,
                        "learn": [
                          0.08211303075
                        ],
                        "passed_time": 12.24806274,
                        "remaining_time": 23.77565119,
                        "test": [
                          0.08195109107
                        ]
                      },
                      {
                        "iteration": 68,
                        "learn": [
                          0.08206586621
                        ],
                        "passed_time": 12.40674371,
                        "remaining_time": 23.55483225,
                        "test": [
                          0.08191039291
                        ]
                      },
                      {
                        "iteration": 69,
                        "learn": [
                          0.082001952
                        ],
                        "passed_time": 12.56030408,
                        "remaining_time": 23.32627901,
                        "test": [
                          0.08185722739
                        ]
                      },
                      {
                        "iteration": 70,
                        "learn": [
                          0.08198401725
                        ],
                        "passed_time": 12.72799859,
                        "remaining_time": 23.12551856,
                        "test": [
                          0.08184137511
                        ]
                      },
                      {
                        "iteration": 71,
                        "learn": [
                          0.0819528638
                        ],
                        "passed_time": 12.8794687,
                        "remaining_time": 22.89683324,
                        "test": [
                          0.08180730584
                        ]
                      },
                      {
                        "iteration": 72,
                        "learn": [
                          0.08189308325
                        ],
                        "passed_time": 13.03383326,
                        "remaining_time": 22.67529896,
                        "test": [
                          0.08174940915
                        ]
                      },
                      {
                        "iteration": 73,
                        "learn": [
                          0.08187335697
                        ],
                        "passed_time": 13.19615,
                        "remaining_time": 22.46912027,
                        "test": [
                          0.08173006971
                        ]
                      },
                      {
                        "iteration": 74,
                        "learn": [
                          0.08181561558
                        ],
                        "passed_time": 13.36197488,
                        "remaining_time": 22.26995814,
                        "test": [
                          0.0816670636
                        ]
                      },
                      {
                        "iteration": 75,
                        "learn": [
                          0.08179694427
                        ],
                        "passed_time": 13.52884361,
                        "remaining_time": 22.07337642,
                        "test": [
                          0.08164923933
                        ]
                      },
                      {
                        "iteration": 76,
                        "learn": [
                          0.08174081894
                        ],
                        "passed_time": 13.67744749,
                        "remaining_time": 21.84839015,
                        "test": [
                          0.08159696681
                        ]
                      },
                      {
                        "iteration": 77,
                        "learn": [
                          0.0817015257
                        ],
                        "passed_time": 13.8200363,
                        "remaining_time": 21.61595421,
                        "test": [
                          0.08156378813
                        ]
                      },
                      {
                        "iteration": 78,
                        "learn": [
                          0.08168126205
                        ],
                        "passed_time": 13.9907441,
                        "remaining_time": 21.42886121,
                        "test": [
                          0.08154745235
                        ]
                      },
                      {
                        "iteration": 79,
                        "learn": [
                          0.08166356725
                        ],
                        "passed_time": 14.15398119,
                        "remaining_time": 21.23097179,
                        "test": [
                          0.08152857398
                        ]
                      },
                      {
                        "iteration": 80,
                        "learn": [
                          0.0816102632
                        ],
                        "passed_time": 14.32139602,
                        "remaining_time": 21.04007564,
                        "test": [
                          0.08147680327
                        ]
                      },
                      {
                        "iteration": 81,
                        "learn": [
                          0.08159471165
                        ],
                        "passed_time": 14.49014661,
                        "remaining_time": 20.85167439,
                        "test": [
                          0.08146172576
                        ]
                      },
                      {
                        "iteration": 82,
                        "learn": [
                          0.08155884095
                        ],
                        "passed_time": 14.63521617,
                        "remaining_time": 20.63036496,
                        "test": [
                          0.08142537132
                        ]
                      },
                      {
                        "iteration": 83,
                        "learn": [
                          0.08152439366
                        ],
                        "passed_time": 14.78684681,
                        "remaining_time": 20.4199313,
                        "test": [
                          0.08138583739
                        ]
                      },
                      {
                        "iteration": 84,
                        "learn": [
                          0.08151104131
                        ],
                        "passed_time": 14.95683324,
                        "remaining_time": 20.23571556,
                        "test": [
                          0.08137492668
                        ]
                      },
                      {
                        "iteration": 85,
                        "learn": [
                          0.08147629279
                        ],
                        "passed_time": 15.11981725,
                        "remaining_time": 20.04254845,
                        "test": [
                          0.08133254656
                        ]
                      },
                      {
                        "iteration": 86,
                        "learn": [
                          0.0814415185
                        ],
                        "passed_time": 15.26384633,
                        "remaining_time": 19.82545557,
                        "test": [
                          0.0813056408
                        ]
                      },
                      {
                        "iteration": 87,
                        "learn": [
                          0.08138755661
                        ],
                        "passed_time": 15.43374959,
                        "remaining_time": 19.64295403,
                        "test": [
                          0.08124662646
                        ]
                      },
                      {
                        "iteration": 88,
                        "learn": [
                          0.08137452611
                        ],
                        "passed_time": 15.60488136,
                        "remaining_time": 19.46226777,
                        "test": [
                          0.08123412278
                        ]
                      },
                      {
                        "iteration": 89,
                        "learn": [
                          0.08135150984
                        ],
                        "passed_time": 15.7652736,
                        "remaining_time": 19.26866773,
                        "test": [
                          0.08120856366
                        ]
                      },
                      {
                        "iteration": 90,
                        "learn": [
                          0.08130437778
                        ],
                        "passed_time": 15.91074308,
                        "remaining_time": 19.05792304,
                        "test": [
                          0.08116845567
                        ]
                      },
                      {
                        "iteration": 91,
                        "learn": [
                          0.08125335104
                        ],
                        "passed_time": 16.06811869,
                        "remaining_time": 18.86257411,
                        "test": [
                          0.08111480716
                        ]
                      },
                      {
                        "iteration": 92,
                        "learn": [
                          0.08123808138
                        ],
                        "passed_time": 16.22883693,
                        "remaining_time": 18.67188765,
                        "test": [
                          0.08109987796
                        ]
                      },
                      {
                        "iteration": 93,
                        "learn": [
                          0.08120746667
                        ],
                        "passed_time": 16.40379437,
                        "remaining_time": 18.49789578,
                        "test": [
                          0.08106849707
                        ]
                      },
                      {
                        "iteration": 94,
                        "learn": [
                          0.08117697535
                        ],
                        "passed_time": 16.55042528,
                        "remaining_time": 18.29257531,
                        "test": [
                          0.0810436978
                        ]
                      },
                      {
                        "iteration": 95,
                        "learn": [
                          0.08116461455
                        ],
                        "passed_time": 16.71792015,
                        "remaining_time": 18.11108016,
                        "test": [
                          0.0810317013
                        ]
                      },
                      {
                        "iteration": 96,
                        "learn": [
                          0.08115020427
                        ],
                        "passed_time": 16.88458929,
                        "remaining_time": 17.92899688,
                        "test": [
                          0.08102073179
                        ]
                      },
                      {
                        "iteration": 97,
                        "learn": [
                          0.08110183556
                        ],
                        "passed_time": 17.04017282,
                        "remaining_time": 17.73569008,
                        "test": [
                          0.08096923158
                        ]
                      },
                      {
                        "iteration": 98,
                        "learn": [
                          0.08107389675
                        ],
                        "passed_time": 17.18401541,
                        "remaining_time": 17.53116723,
                        "test": [
                          0.08094112582
                        ]
                      },
                      {
                        "iteration": 99,
                        "learn": [
                          0.08104646711
                        ],
                        "passed_time": 17.33176371,
                        "remaining_time": 17.33176371,
                        "test": [
                          0.08091919446
                        ]
                      },
                      {
                        "iteration": 100,
                        "learn": [
                          0.08101928175
                        ],
                        "passed_time": 17.51080263,
                        "remaining_time": 17.16405406,
                        "test": [
                          0.08088856333
                        ]
                      },
                      {
                        "iteration": 101,
                        "learn": [
                          0.08100706895
                        ],
                        "passed_time": 17.67704637,
                        "remaining_time": 16.98382886,
                        "test": [
                          0.08087954654
                        ]
                      },
                      {
                        "iteration": 102,
                        "learn": [
                          0.08099691643
                        ],
                        "passed_time": 17.85374632,
                        "remaining_time": 16.81372226,
                        "test": [
                          0.08087174981
                        ]
                      },
                      {
                        "iteration": 103,
                        "learn": [
                          0.08095434085
                        ],
                        "passed_time": 17.99826131,
                        "remaining_time": 16.61377967,
                        "test": [
                          0.08082444487
                        ]
                      },
                      {
                        "iteration": 104,
                        "learn": [
                          0.08093831738
                        ],
                        "passed_time": 18.15461991,
                        "remaining_time": 16.42560849,
                        "test": [
                          0.08081031352
                        ]
                      },
                      {
                        "iteration": 105,
                        "learn": [
                          0.0809279213
                        ],
                        "passed_time": 18.32461002,
                        "remaining_time": 16.25012587,
                        "test": [
                          0.08080014616
                        ]
                      },
                      {
                        "iteration": 106,
                        "learn": [
                          0.08091663786
                        ],
                        "passed_time": 18.51321329,
                        "remaining_time": 16.0909237,
                        "test": [
                          0.08078967468
                        ]
                      },
                      {
                        "iteration": 107,
                        "learn": [
                          0.08087681557
                        ],
                        "passed_time": 18.66819487,
                        "remaining_time": 15.90253637,
                        "test": [
                          0.08074688315
                        ]
                      },
                      {
                        "iteration": 108,
                        "learn": [
                          0.08085148413
                        ],
                        "passed_time": 18.81765105,
                        "remaining_time": 15.71014904,
                        "test": [
                          0.08072840553
                        ]
                      },
                      {
                        "iteration": 109,
                        "learn": [
                          0.08083652847
                        ],
                        "passed_time": 18.96241313,
                        "remaining_time": 15.51470165,
                        "test": [
                          0.08071486256
                        ]
                      },
                      {
                        "iteration": 110,
                        "learn": [
                          0.08082813146
                        ],
                        "passed_time": 19.15070416,
                        "remaining_time": 15.3550691,
                        "test": [
                          0.08070663236
                        ]
                      },
                      {
                        "iteration": 111,
                        "learn": [
                          0.08081407747
                        ],
                        "passed_time": 19.3097111,
                        "remaining_time": 15.17191586,
                        "test": [
                          0.08069420986
                        ]
                      },
                      {
                        "iteration": 112,
                        "learn": [
                          0.08080125706
                        ],
                        "passed_time": 19.48209909,
                        "remaining_time": 14.99949222,
                        "test": [
                          0.08068309698
                        ]
                      },
                      {
                        "iteration": 113,
                        "learn": [
                          0.08077732226
                        ],
                        "passed_time": 19.62387816,
                        "remaining_time": 14.80397826,
                        "test": [
                          0.08065819617
                        ]
                      },
                      {
                        "iteration": 114,
                        "learn": [
                          0.08076668411
                        ],
                        "passed_time": 19.79290515,
                        "remaining_time": 14.62953859,
                        "test": [
                          0.08064655942
                        ]
                      },
                      {
                        "iteration": 115,
                        "learn": [
                          0.08075837063
                        ],
                        "passed_time": 19.96957011,
                        "remaining_time": 14.46072319,
                        "test": [
                          0.08063825608
                        ]
                      },
                      {
                        "iteration": 116,
                        "learn": [
                          0.08074624737
                        ],
                        "passed_time": 20.12560103,
                        "remaining_time": 14.27713577,
                        "test": [
                          0.08062777501
                        ]
                      },
                      {
                        "iteration": 117,
                        "learn": [
                          0.08073496593
                        ],
                        "passed_time": 20.27433196,
                        "remaining_time": 14.08894255,
                        "test": [
                          0.08061838539
                        ]
                      },
                      {
                        "iteration": 118,
                        "learn": [
                          0.08072733088
                        ],
                        "passed_time": 20.44725217,
                        "remaining_time": 13.91787753,
                        "test": [
                          0.08060997656
                        ]
                      },
                      {
                        "iteration": 119,
                        "learn": [
                          0.08070446145
                        ],
                        "passed_time": 20.61907106,
                        "remaining_time": 13.74604738,
                        "test": [
                          0.08059373991
                        ]
                      },
                      {
                        "iteration": 120,
                        "learn": [
                          0.08068288264
                        ],
                        "passed_time": 20.7712137,
                        "remaining_time": 13.56137093,
                        "test": [
                          0.08057089384
                        ]
                      },
                      {
                        "iteration": 121,
                        "learn": [
                          0.08067199993
                        ],
                        "passed_time": 20.92995456,
                        "remaining_time": 13.38144636,
                        "test": [
                          0.0805616673
                        ]
                      },
                      {
                        "iteration": 122,
                        "learn": [
                          0.08066260304
                        ],
                        "passed_time": 21.09264637,
                        "remaining_time": 13.2043396,
                        "test": [
                          0.08055033865
                        ]
                      },
                      {
                        "iteration": 123,
                        "learn": [
                          0.08064143742
                        ],
                        "passed_time": 21.25488249,
                        "remaining_time": 13.02718604,
                        "test": [
                          0.08053420637
                        ]
                      },
                      {
                        "iteration": 124,
                        "learn": [
                          0.08063424282
                        ],
                        "passed_time": 21.4396358,
                        "remaining_time": 12.86378148,
                        "test": [
                          0.080527492
                        ]
                      },
                      {
                        "iteration": 125,
                        "learn": [
                          0.08062145001
                        ],
                        "passed_time": 21.68200289,
                        "remaining_time": 12.73387472,
                        "test": [
                          0.08051836763
                        ]
                      },
                      {
                        "iteration": 126,
                        "learn": [
                          0.08061558123
                        ],
                        "passed_time": 22.03980466,
                        "remaining_time": 12.66854913,
                        "test": [
                          0.08051274679
                        ]
                      },
                      {
                        "iteration": 127,
                        "learn": [
                          0.08060643373
                        ],
                        "passed_time": 22.32893001,
                        "remaining_time": 12.56002313,
                        "test": [
                          0.08050662731
                        ]
                      },
                      {
                        "iteration": 128,
                        "learn": [
                          0.08059574135
                        ],
                        "passed_time": 22.66987408,
                        "remaining_time": 12.47721751,
                        "test": [
                          0.08049361491
                        ]
                      },
                      {
                        "iteration": 129,
                        "learn": [
                          0.08058718447
                        ],
                        "passed_time": 22.94594572,
                        "remaining_time": 12.35550923,
                        "test": [
                          0.08048793559
                        ]
                      },
                      {
                        "iteration": 130,
                        "learn": [
                          0.08058062263
                        ],
                        "passed_time": 23.27684688,
                        "remaining_time": 12.26032393,
                        "test": [
                          0.08048178013
                        ]
                      },
                      {
                        "iteration": 131,
                        "learn": [
                          0.08056154424
                        ],
                        "passed_time": 23.6402253,
                        "remaining_time": 12.17829788,
                        "test": [
                          0.08046099797
                        ]
                      },
                      {
                        "iteration": 132,
                        "learn": [
                          0.0805532663
                        ],
                        "passed_time": 23.92716034,
                        "remaining_time": 12.0535319,
                        "test": [
                          0.08045440534
                        ]
                      },
                      {
                        "iteration": 133,
                        "learn": [
                          0.08054279329
                        ],
                        "passed_time": 24.21008389,
                        "remaining_time": 11.92436968,
                        "test": [
                          0.08044716134
                        ]
                      },
                      {
                        "iteration": 134,
                        "learn": [
                          0.08052549504
                        ],
                        "passed_time": 24.39650474,
                        "remaining_time": 11.74646524,
                        "test": [
                          0.08042732438
                        ]
                      },
                      {
                        "iteration": 135,
                        "learn": [
                          0.08052044001
                        ],
                        "passed_time": 24.58469754,
                        "remaining_time": 11.56926943,
                        "test": [
                          0.08042248936
                        ]
                      },
                      {
                        "iteration": 136,
                        "learn": [
                          0.08051491878
                        ],
                        "passed_time": 24.78801963,
                        "remaining_time": 11.39887034,
                        "test": [
                          0.08041738582
                        ]
                      },
                      {
                        "iteration": 137,
                        "learn": [
                          0.08050789475
                        ],
                        "passed_time": 24.95627112,
                        "remaining_time": 11.21223775,
                        "test": [
                          0.08041000977
                        ]
                      },
                      {
                        "iteration": 138,
                        "learn": [
                          0.08048734552
                        ],
                        "passed_time": 25.10808235,
                        "remaining_time": 11.01865485,
                        "test": [
                          0.08039004761
                        ]
                      },
                      {
                        "iteration": 139,
                        "learn": [
                          0.08048072402
                        ],
                        "passed_time": 25.27921685,
                        "remaining_time": 10.83395008,
                        "test": [
                          0.08038186808
                        ]
                      },
                      {
                        "iteration": 140,
                        "learn": [
                          0.08046593616
                        ],
                        "passed_time": 25.44724198,
                        "remaining_time": 10.64813671,
                        "test": [
                          0.08036577424
                        ]
                      },
                      {
                        "iteration": 141,
                        "learn": [
                          0.08045919696
                        ],
                        "passed_time": 25.60102521,
                        "remaining_time": 10.45675678,
                        "test": [
                          0.08035996771
                        ]
                      },
                      {
                        "iteration": 142,
                        "learn": [
                          0.08044408112
                        ],
                        "passed_time": 25.80820914,
                        "remaining_time": 10.28718826,
                        "test": [
                          0.0803431746
                        ]
                      },
                      {
                        "iteration": 143,
                        "learn": [
                          0.08040671705
                        ],
                        "passed_time": 25.97289041,
                        "remaining_time": 10.10056849,
                        "test": [
                          0.08030106658
                        ]
                      },
                      {
                        "iteration": 144,
                        "learn": [
                          0.08039786876
                        ],
                        "passed_time": 26.12472447,
                        "remaining_time": 9.909378247,
                        "test": [
                          0.08029743524
                        ]
                      },
                      {
                        "iteration": 145,
                        "learn": [
                          0.08039207229
                        ],
                        "passed_time": 26.28896991,
                        "remaining_time": 9.723317637,
                        "test": [
                          0.08029091919
                        ]
                      },
                      {
                        "iteration": 146,
                        "learn": [
                          0.08038816297
                        ],
                        "passed_time": 26.48388758,
                        "remaining_time": 9.548612529,
                        "test": [
                          0.08028612468
                        ]
                      },
                      {
                        "iteration": 147,
                        "learn": [
                          0.08037328345
                        ],
                        "passed_time": 26.66628534,
                        "remaining_time": 9.369235391,
                        "test": [
                          0.08026881884
                        ]
                      },
                      {
                        "iteration": 148,
                        "learn": [
                          0.08035397047
                        ],
                        "passed_time": 26.83533145,
                        "remaining_time": 9.185247676,
                        "test": [
                          0.08026299284
                        ]
                      },
                      {
                        "iteration": 149,
                        "learn": [
                          0.08031924599
                        ],
                        "passed_time": 27.00292446,
                        "remaining_time": 9.000974821,
                        "test": [
                          0.08022285617
                        ]
                      },
                      {
                        "iteration": 150,
                        "learn": [
                          0.08029089109
                        ],
                        "passed_time": 27.16413915,
                        "remaining_time": 8.814853103,
                        "test": [
                          0.08019057017
                        ]
                      },
                      {
                        "iteration": 151,
                        "learn": [
                          0.08028542504
                        ],
                        "passed_time": 27.32811754,
                        "remaining_time": 8.629931854,
                        "test": [
                          0.08018469755
                        ]
                      },
                      {
                        "iteration": 152,
                        "learn": [
                          0.08025128687
                        ],
                        "passed_time": 27.53285797,
                        "remaining_time": 8.457806044,
                        "test": [
                          0.08014548205
                        ]
                      },
                      {
                        "iteration": 153,
                        "learn": [
                          0.08024566365
                        ],
                        "passed_time": 27.68146254,
                        "remaining_time": 8.268488812,
                        "test": [
                          0.0801412325
                        ]
                      },
                      {
                        "iteration": 154,
                        "learn": [
                          0.08023369412
                        ],
                        "passed_time": 27.87448132,
                        "remaining_time": 8.09259135,
                        "test": [
                          0.0801277068
                        ]
                      },
                      {
                        "iteration": 155,
                        "learn": [
                          0.08022000787
                        ],
                        "passed_time": 28.06341902,
                        "remaining_time": 7.915323314,
                        "test": [
                          0.08011265565
                        ]
                      },
                      {
                        "iteration": 156,
                        "learn": [
                          0.08021503126
                        ],
                        "passed_time": 28.21611341,
                        "remaining_time": 7.727980105,
                        "test": [
                          0.08010739907
                        ]
                      },
                      {
                        "iteration": 157,
                        "learn": [
                          0.08021058858
                        ],
                        "passed_time": 28.37797118,
                        "remaining_time": 7.543511326,
                        "test": [
                          0.08010269501
                        ]
                      },
                      {
                        "iteration": 158,
                        "learn": [
                          0.08017956843
                        ],
                        "passed_time": 28.5507686,
                        "remaining_time": 7.362147878,
                        "test": [
                          0.08006794441
                        ]
                      },
                      {
                        "iteration": 159,
                        "learn": [
                          0.08014832552
                        ],
                        "passed_time": 28.77541077,
                        "remaining_time": 7.193852691,
                        "test": [
                          0.08003160243
                        ]
                      },
                      {
                        "iteration": 160,
                        "learn": [
                          0.08011974329
                        ],
                        "passed_time": 28.94405901,
                        "remaining_time": 7.011293797,
                        "test": [
                          0.07999727265
                        ]
                      },
                      {
                        "iteration": 161,
                        "learn": [
                          0.08010942263
                        ],
                        "passed_time": 29.12119862,
                        "remaining_time": 6.830898443,
                        "test": [
                          0.07998601427
                        ]
                      },
                      {
                        "iteration": 162,
                        "learn": [
                          0.08010189849
                        ],
                        "passed_time": 29.27670228,
                        "remaining_time": 6.645631807,
                        "test": [
                          0.07998239929
                        ]
                      },
                      {
                        "iteration": 163,
                        "learn": [
                          0.08009715741
                        ],
                        "passed_time": 29.43090281,
                        "remaining_time": 6.46044208,
                        "test": [
                          0.07997859151
                        ]
                      },
                      {
                        "iteration": 164,
                        "learn": [
                          0.08008059872
                        ],
                        "passed_time": 29.5998179,
                        "remaining_time": 6.278749251,
                        "test": [
                          0.07996463078
                        ]
                      },
                      {
                        "iteration": 165,
                        "learn": [
                          0.08007652801
                        ],
                        "passed_time": 29.81287824,
                        "remaining_time": 6.106252169,
                        "test": [
                          0.07996043751
                        ]
                      },
                      {
                        "iteration": 166,
                        "learn": [
                          0.0800613064
                        ],
                        "passed_time": 29.99498984,
                        "remaining_time": 5.927153682,
                        "test": [
                          0.07994866481
                        ]
                      },
                      {
                        "iteration": 167,
                        "learn": [
                          0.0800399684
                        ],
                        "passed_time": 30.20585732,
                        "remaining_time": 5.753496632,
                        "test": [
                          0.07992742563
                        ]
                      },
                      {
                        "iteration": 168,
                        "learn": [
                          0.0800116681
                        ],
                        "passed_time": 30.42391072,
                        "remaining_time": 5.580717352,
                        "test": [
                          0.07989402518
                        ]
                      },
                      {
                        "iteration": 169,
                        "learn": [
                          0.08000727048
                        ],
                        "passed_time": 30.58086342,
                        "remaining_time": 5.396622957,
                        "test": [
                          0.07989072999
                        ]
                      },
                      {
                        "iteration": 170,
                        "learn": [
                          0.07999635997
                        ],
                        "passed_time": 30.75622232,
                        "remaining_time": 5.215967528,
                        "test": [
                          0.07987834385
                        ]
                      },
                      {
                        "iteration": 171,
                        "learn": [
                          0.07997086886
                        ],
                        "passed_time": 31.02550447,
                        "remaining_time": 5.050663519,
                        "test": [
                          0.07984791613
                        ]
                      },
                      {
                        "iteration": 172,
                        "learn": [
                          0.07996066262
                        ],
                        "passed_time": 31.19260217,
                        "remaining_time": 4.868209587,
                        "test": [
                          0.07983651982
                        ]
                      },
                      {
                        "iteration": 173,
                        "learn": [
                          0.07995465956
                        ],
                        "passed_time": 31.34572494,
                        "remaining_time": 4.683843957,
                        "test": [
                          0.0798329089
                        ]
                      },
                      {
                        "iteration": 174,
                        "learn": [
                          0.07993011347
                        ],
                        "passed_time": 31.52079971,
                        "remaining_time": 4.502971387,
                        "test": [
                          0.07980493621
                        ]
                      },
                      {
                        "iteration": 175,
                        "learn": [
                          0.07992121422
                        ],
                        "passed_time": 31.68173785,
                        "remaining_time": 4.32023698,
                        "test": [
                          0.07979383657
                        ]
                      },
                      {
                        "iteration": 176,
                        "learn": [
                          0.079912789
                        ],
                        "passed_time": 31.84659696,
                        "remaining_time": 4.138258362,
                        "test": [
                          0.07978036638
                        ]
                      },
                      {
                        "iteration": 177,
                        "learn": [
                          0.07988724183
                        ],
                        "passed_time": 32.06933042,
                        "remaining_time": 3.963625108,
                        "test": [
                          0.07974987674
                        ]
                      },
                      {
                        "iteration": 178,
                        "learn": [
                          0.079880805
                        ],
                        "passed_time": 32.21955186,
                        "remaining_time": 3.779947425,
                        "test": [
                          0.07974787855
                        ]
                      },
                      {
                        "iteration": 179,
                        "learn": [
                          0.07987146936
                        ],
                        "passed_time": 32.38806006,
                        "remaining_time": 3.59867334,
                        "test": [
                          0.07973480895
                        ]
                      },
                      {
                        "iteration": 180,
                        "learn": [
                          0.07985706048
                        ],
                        "passed_time": 32.56489923,
                        "remaining_time": 3.418414836,
                        "test": [
                          0.07972346108
                        ]
                      },
                      {
                        "iteration": 181,
                        "learn": [
                          0.07984699868
                        ],
                        "passed_time": 32.74228733,
                        "remaining_time": 3.238248198,
                        "test": [
                          0.07971201747
                        ]
                      },
                      {
                        "iteration": 182,
                        "learn": [
                          0.07982467666
                        ],
                        "passed_time": 32.92218166,
                        "remaining_time": 3.058344744,
                        "test": [
                          0.07968501923
                        ]
                      },
                      {
                        "iteration": 183,
                        "learn": [
                          0.0798111668
                        ],
                        "passed_time": 33.13656012,
                        "remaining_time": 2.881440011,
                        "test": [
                          0.07967381645
                        ]
                      },
                      {
                        "iteration": 184,
                        "learn": [
                          0.07978795426
                        ],
                        "passed_time": 33.34252655,
                        "remaining_time": 2.703448099,
                        "test": [
                          0.07964571268
                        ]
                      },
                      {
                        "iteration": 185,
                        "learn": [
                          0.07977898305
                        ],
                        "passed_time": 33.53969909,
                        "remaining_time": 2.52449348,
                        "test": [
                          0.07963361325
                        ]
                      },
                      {
                        "iteration": 186,
                        "learn": [
                          0.07977531417
                        ],
                        "passed_time": 33.69552851,
                        "remaining_time": 2.342469896,
                        "test": [
                          0.07963095107
                        ]
                      },
                      {
                        "iteration": 187,
                        "learn": [
                          0.07977198327
                        ],
                        "passed_time": 33.84720903,
                        "remaining_time": 2.160460151,
                        "test": [
                          0.07962858059
                        ]
                      },
                      {
                        "iteration": 188,
                        "learn": [
                          0.07976584367
                        ],
                        "passed_time": 34.00824549,
                        "remaining_time": 1.979315875,
                        "test": [
                          0.07962116236
                        ]
                      },
                      {
                        "iteration": 189,
                        "learn": [
                          0.07974865147
                        ],
                        "passed_time": 34.26260856,
                        "remaining_time": 1.803295187,
                        "test": [
                          0.07960090116
                        ]
                      },
                      {
                        "iteration": 190,
                        "learn": [
                          0.07972816517
                        ],
                        "passed_time": 34.5875965,
                        "remaining_time": 1.629782034,
                        "test": [
                          0.07957737026
                        ]
                      },
                      {
                        "iteration": 191,
                        "learn": [
                          0.07972261741
                        ],
                        "passed_time": 34.88103103,
                        "remaining_time": 1.453376293,
                        "test": [
                          0.07957437218
                        ]
                      },
                      {
                        "iteration": 192,
                        "learn": [
                          0.07971075441
                        ],
                        "passed_time": 35.23199312,
                        "remaining_time": 1.27784431,
                        "test": [
                          0.07956588104
                        ]
                      },
                      {
                        "iteration": 193,
                        "learn": [
                          0.0796903572
                        ],
                        "passed_time": 35.61265067,
                        "remaining_time": 1.101422186,
                        "test": [
                          0.07954064557
                        ]
                      },
                      {
                        "iteration": 194,
                        "learn": [
                          0.07966952526
                        ],
                        "passed_time": 35.94681063,
                        "remaining_time": 0.921713093,
                        "test": [
                          0.07952025413
                        ]
                      },
                      {
                        "iteration": 195,
                        "learn": [
                          0.07966639477
                        ],
                        "passed_time": 36.33677828,
                        "remaining_time": 0.7415669036,
                        "test": [
                          0.07951719974
                        ]
                      },
                      {
                        "iteration": 196,
                        "learn": [
                          0.07965030767
                        ],
                        "passed_time": 36.70417319,
                        "remaining_time": 0.5589467999,
                        "test": [
                          0.07949948781
                        ]
                      },
                      {
                        "iteration": 197,
                        "learn": [
                          0.07963513158
                        ],
                        "passed_time": 37.021579,
                        "remaining_time": 0.3739553434,
                        "test": [
                          0.07947724284
                        ]
                      },
                      {
                        "iteration": 198,
                        "learn": [
                          0.07962591922
                        ],
                        "passed_time": 37.20482778,
                        "remaining_time": 0.1869589336,
                        "test": [
                          0.07946722469
                        ]
                      },
                      {
                        "iteration": 199,
                        "learn": [
                          0.07961888978
                        ],
                        "passed_time": 37.41309711,
                        "remaining_time": 0,
                        "test": [
                          0.07945535084
                        ]
                      }
                    ],
                    "meta": {
                      "iteration_count": 200,
                      "launch_mode": "Train",
                      "learn_metrics": [
                        {
                          "best_value": "Min",
                          "name": "RMSE"
                        }
                      ],
                      "learn_sets": [
                        "learn"
                      ],
                      "name": "experiment",
                      "parameters": "",
                      "test_metrics": [
                        {
                          "best_value": "Min",
                          "name": "RMSE"
                        }
                      ],
                      "test_sets": [
                        "test"
                      ]
                    }
                  },
                  "passed_iterations": 199,
                  "total_iterations": 200
                },
                "name": "fold-2",
                "path": "catboost_info/fold-2"
              }
            },
            "layout": "IPY_MODEL_8b263778f0404d7f8a9349cea0f363e6"
          }
        }
      }
    }
  },
  "nbformat": 4,
  "nbformat_minor": 0
}